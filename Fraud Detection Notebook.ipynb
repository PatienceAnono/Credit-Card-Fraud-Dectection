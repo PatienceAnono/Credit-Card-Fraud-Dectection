{
 "cells": [
  {
   "cell_type": "markdown",
   "metadata": {
    "id": "xMxtPsqcTsSH"
   },
   "source": [
    "# CREDIT CARD FRAUD DETECTION"
   ]
  },
  {
   "cell_type": "markdown",
   "metadata": {
    "id": "kLG2VTrnTvYL"
   },
   "source": [
    "## 1.INTRODUCTION  \n",
    "\n",
    "Credit card fraud is defined as a fraudulent transaction (payment) that is made using a credit or debit card by an unauthorized user.Credit cards are now the most preferred way for customers to transact either offline or online, due to the advancement in communication and electronic commerce systems."
   ]
  },
  {
   "cell_type": "markdown",
   "metadata": {
    "id": "XecOwPNorl2W"
   },
   "source": [
    "## 1.1.BUSINESS UNDERSTANDING  \n",
    "\n",
    "Due to the advancement in communication and electronic commerce systems, proliferation and increase in the use of services such as e-commerce, tap and pay systems, online bills payment systems etc. As a consequence, fraudsters have also increased activities to attack transactions that are made using credit cards.Fraud associated with transactions has increased significantly and fraud detection has become a challenging task because of the constantly changing nature and patterns of the fraudulent transactions.It is therefore crucial to implement effective and efficient mechanisms that can detect credit card fraud to protect users from financial loss."
   ]
  },
  {
   "cell_type": "markdown",
   "metadata": {},
   "source": [
    "### a).Problem statement  \n",
    "\n",
    "Due to the increase in fraudulent activities it  has become essential for financial institutions and businesses to develop advanced fraud detection techniques to counter the threat of fraudulent credit card transactions and identity theft and keep losses to a minimum"
   ]
  },
  {
   "cell_type": "markdown",
   "metadata": {},
   "source": [
    "### b). Main Objective\n",
    "\n",
    "To develop an accurate and reliable machine learning model that can detect fraudulent activities in real-time"
   ]
  },
  {
   "cell_type": "markdown",
   "metadata": {},
   "source": [
    "### c).Specific Objectives\n",
    "- To identify and analyze patterns and correlations in the dataset to better understand the characteristics of fraudulent transactions.\n",
    "- To check time of the day when most frauds are conducted and ages that are prone to credit card Frauds.\n",
    "- To contribute to the development of more accurate and effective fraud detection models for financial transactions.  \n",
    "- To provide a useful tool for individuals and organizations to detect and prevent fraudulent financial transactions, thereby minimizing financial losses and improving financial security.  \n",
    "- To compare different ML models predictions to achieve highest accuracy.  \n",
    "- Advice the Company on best the strategy."
   ]
  },
  {
   "cell_type": "markdown",
   "metadata": {},
   "source": [
    "### 1.2. DATA UNDERSTANDING  \n",
    "\n",
    "The dataset utilized for this project was obtained from [Kaggle](https://www.kaggle.com/datasets/kartik2112/fraud-detection), containing simulated financial transactions based on a genuine financial transactions dataset. It comprised 23 rows and columns, with the target variable being a binary indicator showing whether the transaction was fraudulent (1) or not (0). An exploratory data analysis was performed on the training data to identify features that were correlated with fraudulent activities. Models were then developed using those features, and their predictive effectiveness was evaluated. The features present in the dataset were analyzed."
   ]
  },
  {
   "cell_type": "markdown",
   "metadata": {},
   "source": [
    "- Index - Unique Identifier for each row\n",
    "- Trans_date_trans_time - Transaction DateTime\n",
    "- Cc_num - Credit Card Number of Customer\n",
    "- Merchant - Merchant Name\n",
    "- Category - Category of Merchant\n",
    "- Amt - Amount of Transaction\n",
    "- First - First Name of Credit Card Holder\n",
    "- Last - Last Name of Credit Card Holder\n",
    "- Gender - Gender of Credit Card Holder\n",
    "- Street - Street Address of Credit Card Holder\n",
    "- City - City of Credit Card Holder\n",
    "- State - State of Credit Card Holder\n",
    "- Zip - Zip of Credit Card Holder\n",
    "- Lat - Latitude Location of Credit Card Holder\n",
    "- Long - Longitude Location of Credit Card Holder\n",
    "- City_pop - Credit Card Holder's City Population\n",
    "- Job -Job of Credit Card Holder\n",
    "- Dob - Date of Birth of Credit Card Holder\n",
    "- Rans_num - Transaction Number\n",
    "- Unix_time - UNIX Time of transaction\n",
    "- Merch_lat - Latitude Location of Merchant\n",
    "- Merch_long - Longitude Location of Merchant\n",
    "- Is_fraud  - Fraud Flag <--- Target Class\n",
    "- Index Unique - Identifier for each row \n",
    "- Trans_date_trans_time - Transaction DateTime \n"
   ]
  },
  {
   "cell_type": "markdown",
   "metadata": {
    "id": "J4wfHZwQrs-t"
   },
   "source": [
    "### 1.3. METRIC OF SUCCESS \n",
    "\n",
    "* The project's success will be gauged based on achieving an ROC score of 85 and recall rate of 85 for the developed machine learning model. \n",
    "* The model must be highly effective in accurately categorizing fraudulent transactions while minimizing false positives and false negatives."
   ]
  },
  {
   "cell_type": "markdown",
   "metadata": {
    "id": "7KMRBJ7zr9HD"
   },
   "source": [
    "### 1.4. REQUIREMENTS"
   ]
  },
  {
   "cell_type": "markdown",
   "metadata": {},
   "source": [
    "1. Data collection from Kaggle dataset.\n",
    "2. Data preprocessing and feature engineering.\n",
    "3. Exploratory data analysis to gain insights into the dataset.\n",
    "4. Model selection and training, including logistic regression, decision trees, and random forests.\n",
    "5. Model evaluation and fine-tuning of the best-performing model.\n",
    "6. Comparison of the final model with other models developed in the project."
   ]
  },
  {
   "cell_type": "markdown",
   "metadata": {
    "id": "iUNbvIvnT7ep"
   },
   "source": [
    "## 2. Reading the Data"
   ]
  },
  {
   "cell_type": "code",
   "execution_count": 3,
   "metadata": {},
   "outputs": [],
   "source": [
    "#import relevant libraries\n",
    "import pickle\n",
    "import shutil\n",
    "import pandas as pd\n",
    "import numpy as np\n",
    "import seaborn as sns\n",
    "import matplotlib.pyplot as plt\n",
    "\n",
    "from sklearn.linear_model import LogisticRegression\n",
    "from sklearn.svm import SVC\n",
    "from sklearn.neighbors import KNeighborsClassifier\n",
    "from sklearn.tree import DecisionTreeClassifier\n",
    "from sklearn.ensemble import RandomForestClassifier\n",
    "from sklearn.linear_model import SGDClassifier\n",
    "\n",
    "\n",
    "from sklearn.model_selection import train_test_split\n",
    "from imblearn.over_sampling import SMOTE\n",
    "from sklearn.metrics import precision_score, recall_score, f1_score, roc_auc_score, accuracy_score, classification_report\n",
    "from sklearn.model_selection import KFold, StratifiedKFold\n",
    "from sklearn.preprocessing import StandardScaler\n",
    "from sklearn.preprocessing import LabelEncoder\n",
    "from sklearn.pipeline import Pipeline\n",
    "from sklearn.model_selection import GridSearchCV\n",
    "from sklearn.metrics import make_scorer, matthews_corrcoef\n",
    "\n",
    "import warnings\n",
    "warnings.filterwarnings(\"ignore\")"
   ]
  },
  {
   "cell_type": "code",
   "execution_count": 4,
   "metadata": {
    "id": "XJn2KjW-WMlG",
    "scrolled": false
   },
   "outputs": [],
   "source": [
    "# Loading the Data from the source \n",
    "credits_df = pd.read_csv('fraudTrain.csv')\n",
    "credits_test_df = pd.read_csv('fraudTest.csv')\n",
    "pd.set_option('display.max_columns', None)"
   ]
  },
  {
   "cell_type": "markdown",
   "metadata": {
    "id": "OI3P3YnHUEBk"
   },
   "source": [
    "## 3. Explore dataframes\n",
    "- Descriptive exploration of data"
   ]
  },
  {
   "cell_type": "code",
   "execution_count": 6,
   "metadata": {
    "id": "YjSVNwgptHxY",
    "scrolled": false
   },
   "outputs": [
    {
     "data": {
      "text/html": [
       "<div>\n",
       "<style scoped>\n",
       "    .dataframe tbody tr th:only-of-type {\n",
       "        vertical-align: middle;\n",
       "    }\n",
       "\n",
       "    .dataframe tbody tr th {\n",
       "        vertical-align: top;\n",
       "    }\n",
       "\n",
       "    .dataframe thead th {\n",
       "        text-align: right;\n",
       "    }\n",
       "</style>\n",
       "<table border=\"1\" class=\"dataframe\">\n",
       "  <thead>\n",
       "    <tr style=\"text-align: right;\">\n",
       "      <th></th>\n",
       "      <th>Unnamed: 0</th>\n",
       "      <th>trans_date_trans_time</th>\n",
       "      <th>cc_num</th>\n",
       "      <th>merchant</th>\n",
       "      <th>category</th>\n",
       "      <th>amt</th>\n",
       "      <th>first</th>\n",
       "      <th>last</th>\n",
       "      <th>gender</th>\n",
       "      <th>street</th>\n",
       "      <th>city</th>\n",
       "      <th>state</th>\n",
       "      <th>zip</th>\n",
       "      <th>lat</th>\n",
       "      <th>long</th>\n",
       "      <th>city_pop</th>\n",
       "      <th>job</th>\n",
       "      <th>dob</th>\n",
       "      <th>trans_num</th>\n",
       "      <th>unix_time</th>\n",
       "      <th>merch_lat</th>\n",
       "      <th>merch_long</th>\n",
       "      <th>is_fraud</th>\n",
       "    </tr>\n",
       "  </thead>\n",
       "  <tbody>\n",
       "    <tr>\n",
       "      <th>0</th>\n",
       "      <td>0</td>\n",
       "      <td>2019-01-01 00:00:18</td>\n",
       "      <td>2703186189652095</td>\n",
       "      <td>fraud_Rippin, Kub and Mann</td>\n",
       "      <td>misc_net</td>\n",
       "      <td>4.97</td>\n",
       "      <td>Jennifer</td>\n",
       "      <td>Banks</td>\n",
       "      <td>F</td>\n",
       "      <td>561 Perry Cove</td>\n",
       "      <td>Moravian Falls</td>\n",
       "      <td>NC</td>\n",
       "      <td>28654</td>\n",
       "      <td>36.0788</td>\n",
       "      <td>-81.1781</td>\n",
       "      <td>3495</td>\n",
       "      <td>Psychologist, counselling</td>\n",
       "      <td>1988-03-09</td>\n",
       "      <td>0b242abb623afc578575680df30655b9</td>\n",
       "      <td>1325376018</td>\n",
       "      <td>36.011293</td>\n",
       "      <td>-82.048315</td>\n",
       "      <td>0</td>\n",
       "    </tr>\n",
       "    <tr>\n",
       "      <th>1</th>\n",
       "      <td>1</td>\n",
       "      <td>2019-01-01 00:00:44</td>\n",
       "      <td>630423337322</td>\n",
       "      <td>fraud_Heller, Gutmann and Zieme</td>\n",
       "      <td>grocery_pos</td>\n",
       "      <td>107.23</td>\n",
       "      <td>Stephanie</td>\n",
       "      <td>Gill</td>\n",
       "      <td>F</td>\n",
       "      <td>43039 Riley Greens Suite 393</td>\n",
       "      <td>Orient</td>\n",
       "      <td>WA</td>\n",
       "      <td>99160</td>\n",
       "      <td>48.8878</td>\n",
       "      <td>-118.2105</td>\n",
       "      <td>149</td>\n",
       "      <td>Special educational needs teacher</td>\n",
       "      <td>1978-06-21</td>\n",
       "      <td>1f76529f8574734946361c461b024d99</td>\n",
       "      <td>1325376044</td>\n",
       "      <td>49.159047</td>\n",
       "      <td>-118.186462</td>\n",
       "      <td>0</td>\n",
       "    </tr>\n",
       "    <tr>\n",
       "      <th>2</th>\n",
       "      <td>2</td>\n",
       "      <td>2019-01-01 00:00:51</td>\n",
       "      <td>38859492057661</td>\n",
       "      <td>fraud_Lind-Buckridge</td>\n",
       "      <td>entertainment</td>\n",
       "      <td>220.11</td>\n",
       "      <td>Edward</td>\n",
       "      <td>Sanchez</td>\n",
       "      <td>M</td>\n",
       "      <td>594 White Dale Suite 530</td>\n",
       "      <td>Malad City</td>\n",
       "      <td>ID</td>\n",
       "      <td>83252</td>\n",
       "      <td>42.1808</td>\n",
       "      <td>-112.2620</td>\n",
       "      <td>4154</td>\n",
       "      <td>Nature conservation officer</td>\n",
       "      <td>1962-01-19</td>\n",
       "      <td>a1a22d70485983eac12b5b88dad1cf95</td>\n",
       "      <td>1325376051</td>\n",
       "      <td>43.150704</td>\n",
       "      <td>-112.154481</td>\n",
       "      <td>0</td>\n",
       "    </tr>\n",
       "    <tr>\n",
       "      <th>3</th>\n",
       "      <td>3</td>\n",
       "      <td>2019-01-01 00:01:16</td>\n",
       "      <td>3534093764340240</td>\n",
       "      <td>fraud_Kutch, Hermiston and Farrell</td>\n",
       "      <td>gas_transport</td>\n",
       "      <td>45.00</td>\n",
       "      <td>Jeremy</td>\n",
       "      <td>White</td>\n",
       "      <td>M</td>\n",
       "      <td>9443 Cynthia Court Apt. 038</td>\n",
       "      <td>Boulder</td>\n",
       "      <td>MT</td>\n",
       "      <td>59632</td>\n",
       "      <td>46.2306</td>\n",
       "      <td>-112.1138</td>\n",
       "      <td>1939</td>\n",
       "      <td>Patent attorney</td>\n",
       "      <td>1967-01-12</td>\n",
       "      <td>6b849c168bdad6f867558c3793159a81</td>\n",
       "      <td>1325376076</td>\n",
       "      <td>47.034331</td>\n",
       "      <td>-112.561071</td>\n",
       "      <td>0</td>\n",
       "    </tr>\n",
       "    <tr>\n",
       "      <th>4</th>\n",
       "      <td>4</td>\n",
       "      <td>2019-01-01 00:03:06</td>\n",
       "      <td>375534208663984</td>\n",
       "      <td>fraud_Keeling-Crist</td>\n",
       "      <td>misc_pos</td>\n",
       "      <td>41.96</td>\n",
       "      <td>Tyler</td>\n",
       "      <td>Garcia</td>\n",
       "      <td>M</td>\n",
       "      <td>408 Bradley Rest</td>\n",
       "      <td>Doe Hill</td>\n",
       "      <td>VA</td>\n",
       "      <td>24433</td>\n",
       "      <td>38.4207</td>\n",
       "      <td>-79.4629</td>\n",
       "      <td>99</td>\n",
       "      <td>Dance movement psychotherapist</td>\n",
       "      <td>1986-03-28</td>\n",
       "      <td>a41d7549acf90789359a9aa5346dcb46</td>\n",
       "      <td>1325376186</td>\n",
       "      <td>38.674999</td>\n",
       "      <td>-78.632459</td>\n",
       "      <td>0</td>\n",
       "    </tr>\n",
       "  </tbody>\n",
       "</table>\n",
       "</div>"
      ],
      "text/plain": [
       "   Unnamed: 0 trans_date_trans_time            cc_num  \\\n",
       "0           0   2019-01-01 00:00:18  2703186189652095   \n",
       "1           1   2019-01-01 00:00:44      630423337322   \n",
       "2           2   2019-01-01 00:00:51    38859492057661   \n",
       "3           3   2019-01-01 00:01:16  3534093764340240   \n",
       "4           4   2019-01-01 00:03:06   375534208663984   \n",
       "\n",
       "                             merchant       category     amt      first  \\\n",
       "0          fraud_Rippin, Kub and Mann       misc_net    4.97   Jennifer   \n",
       "1     fraud_Heller, Gutmann and Zieme    grocery_pos  107.23  Stephanie   \n",
       "2                fraud_Lind-Buckridge  entertainment  220.11     Edward   \n",
       "3  fraud_Kutch, Hermiston and Farrell  gas_transport   45.00     Jeremy   \n",
       "4                 fraud_Keeling-Crist       misc_pos   41.96      Tyler   \n",
       "\n",
       "      last gender                        street            city state    zip  \\\n",
       "0    Banks      F                561 Perry Cove  Moravian Falls    NC  28654   \n",
       "1     Gill      F  43039 Riley Greens Suite 393          Orient    WA  99160   \n",
       "2  Sanchez      M      594 White Dale Suite 530      Malad City    ID  83252   \n",
       "3    White      M   9443 Cynthia Court Apt. 038         Boulder    MT  59632   \n",
       "4   Garcia      M              408 Bradley Rest        Doe Hill    VA  24433   \n",
       "\n",
       "       lat      long  city_pop                                job         dob  \\\n",
       "0  36.0788  -81.1781      3495          Psychologist, counselling  1988-03-09   \n",
       "1  48.8878 -118.2105       149  Special educational needs teacher  1978-06-21   \n",
       "2  42.1808 -112.2620      4154        Nature conservation officer  1962-01-19   \n",
       "3  46.2306 -112.1138      1939                    Patent attorney  1967-01-12   \n",
       "4  38.4207  -79.4629        99     Dance movement psychotherapist  1986-03-28   \n",
       "\n",
       "                          trans_num   unix_time  merch_lat  merch_long  \\\n",
       "0  0b242abb623afc578575680df30655b9  1325376018  36.011293  -82.048315   \n",
       "1  1f76529f8574734946361c461b024d99  1325376044  49.159047 -118.186462   \n",
       "2  a1a22d70485983eac12b5b88dad1cf95  1325376051  43.150704 -112.154481   \n",
       "3  6b849c168bdad6f867558c3793159a81  1325376076  47.034331 -112.561071   \n",
       "4  a41d7549acf90789359a9aa5346dcb46  1325376186  38.674999  -78.632459   \n",
       "\n",
       "   is_fraud  \n",
       "0         0  \n",
       "1         0  \n",
       "2         0  \n",
       "3         0  \n",
       "4         0  "
      ]
     },
     "execution_count": 6,
     "metadata": {},
     "output_type": "execute_result"
    }
   ],
   "source": [
    "#previewing the top of the dataset\n",
    "credits_df.head()"
   ]
  },
  {
   "cell_type": "code",
   "execution_count": 7,
   "metadata": {
    "id": "e9AzGcZFrIIr"
   },
   "outputs": [
    {
     "data": {
      "text/html": [
       "<div>\n",
       "<style scoped>\n",
       "    .dataframe tbody tr th:only-of-type {\n",
       "        vertical-align: middle;\n",
       "    }\n",
       "\n",
       "    .dataframe tbody tr th {\n",
       "        vertical-align: top;\n",
       "    }\n",
       "\n",
       "    .dataframe thead th {\n",
       "        text-align: right;\n",
       "    }\n",
       "</style>\n",
       "<table border=\"1\" class=\"dataframe\">\n",
       "  <thead>\n",
       "    <tr style=\"text-align: right;\">\n",
       "      <th></th>\n",
       "      <th>Unnamed: 0</th>\n",
       "      <th>trans_date_trans_time</th>\n",
       "      <th>cc_num</th>\n",
       "      <th>merchant</th>\n",
       "      <th>category</th>\n",
       "      <th>amt</th>\n",
       "      <th>first</th>\n",
       "      <th>last</th>\n",
       "      <th>gender</th>\n",
       "      <th>street</th>\n",
       "      <th>city</th>\n",
       "      <th>state</th>\n",
       "      <th>zip</th>\n",
       "      <th>lat</th>\n",
       "      <th>long</th>\n",
       "      <th>city_pop</th>\n",
       "      <th>job</th>\n",
       "      <th>dob</th>\n",
       "      <th>trans_num</th>\n",
       "      <th>unix_time</th>\n",
       "      <th>merch_lat</th>\n",
       "      <th>merch_long</th>\n",
       "      <th>is_fraud</th>\n",
       "    </tr>\n",
       "  </thead>\n",
       "  <tbody>\n",
       "    <tr>\n",
       "      <th>1296670</th>\n",
       "      <td>1296670</td>\n",
       "      <td>2020-06-21 12:12:08</td>\n",
       "      <td>30263540414123</td>\n",
       "      <td>fraud_Reichel Inc</td>\n",
       "      <td>entertainment</td>\n",
       "      <td>15.56</td>\n",
       "      <td>Erik</td>\n",
       "      <td>Patterson</td>\n",
       "      <td>M</td>\n",
       "      <td>162 Jessica Row Apt. 072</td>\n",
       "      <td>Hatch</td>\n",
       "      <td>UT</td>\n",
       "      <td>84735</td>\n",
       "      <td>37.7175</td>\n",
       "      <td>-112.4777</td>\n",
       "      <td>258</td>\n",
       "      <td>Geoscientist</td>\n",
       "      <td>1961-11-24</td>\n",
       "      <td>440b587732da4dc1a6395aba5fb41669</td>\n",
       "      <td>1371816728</td>\n",
       "      <td>36.841266</td>\n",
       "      <td>-111.690765</td>\n",
       "      <td>0</td>\n",
       "    </tr>\n",
       "    <tr>\n",
       "      <th>1296671</th>\n",
       "      <td>1296671</td>\n",
       "      <td>2020-06-21 12:12:19</td>\n",
       "      <td>6011149206456997</td>\n",
       "      <td>fraud_Abernathy and Sons</td>\n",
       "      <td>food_dining</td>\n",
       "      <td>51.70</td>\n",
       "      <td>Jeffrey</td>\n",
       "      <td>White</td>\n",
       "      <td>M</td>\n",
       "      <td>8617 Holmes Terrace Suite 651</td>\n",
       "      <td>Tuscarora</td>\n",
       "      <td>MD</td>\n",
       "      <td>21790</td>\n",
       "      <td>39.2667</td>\n",
       "      <td>-77.5101</td>\n",
       "      <td>100</td>\n",
       "      <td>Production assistant, television</td>\n",
       "      <td>1979-12-11</td>\n",
       "      <td>278000d2e0d2277d1de2f890067dcc0a</td>\n",
       "      <td>1371816739</td>\n",
       "      <td>38.906881</td>\n",
       "      <td>-78.246528</td>\n",
       "      <td>0</td>\n",
       "    </tr>\n",
       "    <tr>\n",
       "      <th>1296672</th>\n",
       "      <td>1296672</td>\n",
       "      <td>2020-06-21 12:12:32</td>\n",
       "      <td>3514865930894695</td>\n",
       "      <td>fraud_Stiedemann Ltd</td>\n",
       "      <td>food_dining</td>\n",
       "      <td>105.93</td>\n",
       "      <td>Christopher</td>\n",
       "      <td>Castaneda</td>\n",
       "      <td>M</td>\n",
       "      <td>1632 Cohen Drive Suite 639</td>\n",
       "      <td>High Rolls Mountain Park</td>\n",
       "      <td>NM</td>\n",
       "      <td>88325</td>\n",
       "      <td>32.9396</td>\n",
       "      <td>-105.8189</td>\n",
       "      <td>899</td>\n",
       "      <td>Naval architect</td>\n",
       "      <td>1967-08-30</td>\n",
       "      <td>483f52fe67fabef353d552c1e662974c</td>\n",
       "      <td>1371816752</td>\n",
       "      <td>33.619513</td>\n",
       "      <td>-105.130529</td>\n",
       "      <td>0</td>\n",
       "    </tr>\n",
       "    <tr>\n",
       "      <th>1296673</th>\n",
       "      <td>1296673</td>\n",
       "      <td>2020-06-21 12:13:36</td>\n",
       "      <td>2720012583106919</td>\n",
       "      <td>fraud_Reinger, Weissnat and Strosin</td>\n",
       "      <td>food_dining</td>\n",
       "      <td>74.90</td>\n",
       "      <td>Joseph</td>\n",
       "      <td>Murray</td>\n",
       "      <td>M</td>\n",
       "      <td>42933 Ryan Underpass</td>\n",
       "      <td>Manderson</td>\n",
       "      <td>SD</td>\n",
       "      <td>57756</td>\n",
       "      <td>43.3526</td>\n",
       "      <td>-102.5411</td>\n",
       "      <td>1126</td>\n",
       "      <td>Volunteer coordinator</td>\n",
       "      <td>1980-08-18</td>\n",
       "      <td>d667cdcbadaaed3da3f4020e83591c83</td>\n",
       "      <td>1371816816</td>\n",
       "      <td>42.788940</td>\n",
       "      <td>-103.241160</td>\n",
       "      <td>0</td>\n",
       "    </tr>\n",
       "    <tr>\n",
       "      <th>1296674</th>\n",
       "      <td>1296674</td>\n",
       "      <td>2020-06-21 12:13:37</td>\n",
       "      <td>4292902571056973207</td>\n",
       "      <td>fraud_Langosh, Wintheiser and Hyatt</td>\n",
       "      <td>food_dining</td>\n",
       "      <td>4.30</td>\n",
       "      <td>Jeffrey</td>\n",
       "      <td>Smith</td>\n",
       "      <td>M</td>\n",
       "      <td>135 Joseph Mountains</td>\n",
       "      <td>Sula</td>\n",
       "      <td>MT</td>\n",
       "      <td>59871</td>\n",
       "      <td>45.8433</td>\n",
       "      <td>-113.8748</td>\n",
       "      <td>218</td>\n",
       "      <td>Therapist, horticultural</td>\n",
       "      <td>1995-08-16</td>\n",
       "      <td>8f7c8e4ab7f25875d753b422917c98c9</td>\n",
       "      <td>1371816817</td>\n",
       "      <td>46.565983</td>\n",
       "      <td>-114.186110</td>\n",
       "      <td>0</td>\n",
       "    </tr>\n",
       "  </tbody>\n",
       "</table>\n",
       "</div>"
      ],
      "text/plain": [
       "         Unnamed: 0 trans_date_trans_time               cc_num  \\\n",
       "1296670     1296670   2020-06-21 12:12:08       30263540414123   \n",
       "1296671     1296671   2020-06-21 12:12:19     6011149206456997   \n",
       "1296672     1296672   2020-06-21 12:12:32     3514865930894695   \n",
       "1296673     1296673   2020-06-21 12:13:36     2720012583106919   \n",
       "1296674     1296674   2020-06-21 12:13:37  4292902571056973207   \n",
       "\n",
       "                                    merchant       category     amt  \\\n",
       "1296670                    fraud_Reichel Inc  entertainment   15.56   \n",
       "1296671             fraud_Abernathy and Sons    food_dining   51.70   \n",
       "1296672                 fraud_Stiedemann Ltd    food_dining  105.93   \n",
       "1296673  fraud_Reinger, Weissnat and Strosin    food_dining   74.90   \n",
       "1296674  fraud_Langosh, Wintheiser and Hyatt    food_dining    4.30   \n",
       "\n",
       "               first       last gender                         street  \\\n",
       "1296670         Erik  Patterson      M       162 Jessica Row Apt. 072   \n",
       "1296671      Jeffrey      White      M  8617 Holmes Terrace Suite 651   \n",
       "1296672  Christopher  Castaneda      M     1632 Cohen Drive Suite 639   \n",
       "1296673       Joseph     Murray      M           42933 Ryan Underpass   \n",
       "1296674      Jeffrey      Smith      M           135 Joseph Mountains   \n",
       "\n",
       "                             city state    zip      lat      long  city_pop  \\\n",
       "1296670                     Hatch    UT  84735  37.7175 -112.4777       258   \n",
       "1296671                 Tuscarora    MD  21790  39.2667  -77.5101       100   \n",
       "1296672  High Rolls Mountain Park    NM  88325  32.9396 -105.8189       899   \n",
       "1296673                 Manderson    SD  57756  43.3526 -102.5411      1126   \n",
       "1296674                      Sula    MT  59871  45.8433 -113.8748       218   \n",
       "\n",
       "                                      job         dob  \\\n",
       "1296670                      Geoscientist  1961-11-24   \n",
       "1296671  Production assistant, television  1979-12-11   \n",
       "1296672                   Naval architect  1967-08-30   \n",
       "1296673             Volunteer coordinator  1980-08-18   \n",
       "1296674          Therapist, horticultural  1995-08-16   \n",
       "\n",
       "                                trans_num   unix_time  merch_lat  merch_long  \\\n",
       "1296670  440b587732da4dc1a6395aba5fb41669  1371816728  36.841266 -111.690765   \n",
       "1296671  278000d2e0d2277d1de2f890067dcc0a  1371816739  38.906881  -78.246528   \n",
       "1296672  483f52fe67fabef353d552c1e662974c  1371816752  33.619513 -105.130529   \n",
       "1296673  d667cdcbadaaed3da3f4020e83591c83  1371816816  42.788940 -103.241160   \n",
       "1296674  8f7c8e4ab7f25875d753b422917c98c9  1371816817  46.565983 -114.186110   \n",
       "\n",
       "         is_fraud  \n",
       "1296670         0  \n",
       "1296671         0  \n",
       "1296672         0  \n",
       "1296673         0  \n",
       "1296674         0  "
      ]
     },
     "execution_count": 7,
     "metadata": {},
     "output_type": "execute_result"
    }
   ],
   "source": [
    "# Previewing the bottom of the train dataset\n",
    "credits_df.tail()"
   ]
  },
  {
   "cell_type": "code",
   "execution_count": 8,
   "metadata": {
    "id": "n8-dW4sQWzbc"
   },
   "outputs": [
    {
     "data": {
      "text/html": [
       "<div>\n",
       "<style scoped>\n",
       "    .dataframe tbody tr th:only-of-type {\n",
       "        vertical-align: middle;\n",
       "    }\n",
       "\n",
       "    .dataframe tbody tr th {\n",
       "        vertical-align: top;\n",
       "    }\n",
       "\n",
       "    .dataframe thead th {\n",
       "        text-align: right;\n",
       "    }\n",
       "</style>\n",
       "<table border=\"1\" class=\"dataframe\">\n",
       "  <thead>\n",
       "    <tr style=\"text-align: right;\">\n",
       "      <th></th>\n",
       "      <th>Unnamed: 0</th>\n",
       "      <th>trans_date_trans_time</th>\n",
       "      <th>cc_num</th>\n",
       "      <th>merchant</th>\n",
       "      <th>category</th>\n",
       "      <th>amt</th>\n",
       "      <th>first</th>\n",
       "      <th>last</th>\n",
       "      <th>gender</th>\n",
       "      <th>street</th>\n",
       "      <th>city</th>\n",
       "      <th>state</th>\n",
       "      <th>zip</th>\n",
       "      <th>lat</th>\n",
       "      <th>long</th>\n",
       "      <th>city_pop</th>\n",
       "      <th>job</th>\n",
       "      <th>dob</th>\n",
       "      <th>trans_num</th>\n",
       "      <th>unix_time</th>\n",
       "      <th>merch_lat</th>\n",
       "      <th>merch_long</th>\n",
       "      <th>is_fraud</th>\n",
       "    </tr>\n",
       "  </thead>\n",
       "  <tbody>\n",
       "    <tr>\n",
       "      <th>0</th>\n",
       "      <td>0</td>\n",
       "      <td>2020-06-21 12:14:25</td>\n",
       "      <td>2291163933867244</td>\n",
       "      <td>fraud_Kirlin and Sons</td>\n",
       "      <td>personal_care</td>\n",
       "      <td>2.86</td>\n",
       "      <td>Jeff</td>\n",
       "      <td>Elliott</td>\n",
       "      <td>M</td>\n",
       "      <td>351 Darlene Green</td>\n",
       "      <td>Columbia</td>\n",
       "      <td>SC</td>\n",
       "      <td>29209</td>\n",
       "      <td>33.9659</td>\n",
       "      <td>-80.9355</td>\n",
       "      <td>333497</td>\n",
       "      <td>Mechanical engineer</td>\n",
       "      <td>1968-03-19</td>\n",
       "      <td>2da90c7d74bd46a0caf3777415b3ebd3</td>\n",
       "      <td>1371816865</td>\n",
       "      <td>33.986391</td>\n",
       "      <td>-81.200714</td>\n",
       "      <td>0</td>\n",
       "    </tr>\n",
       "    <tr>\n",
       "      <th>1</th>\n",
       "      <td>1</td>\n",
       "      <td>2020-06-21 12:14:33</td>\n",
       "      <td>3573030041201292</td>\n",
       "      <td>fraud_Sporer-Keebler</td>\n",
       "      <td>personal_care</td>\n",
       "      <td>29.84</td>\n",
       "      <td>Joanne</td>\n",
       "      <td>Williams</td>\n",
       "      <td>F</td>\n",
       "      <td>3638 Marsh Union</td>\n",
       "      <td>Altonah</td>\n",
       "      <td>UT</td>\n",
       "      <td>84002</td>\n",
       "      <td>40.3207</td>\n",
       "      <td>-110.4360</td>\n",
       "      <td>302</td>\n",
       "      <td>Sales professional, IT</td>\n",
       "      <td>1990-01-17</td>\n",
       "      <td>324cc204407e99f51b0d6ca0055005e7</td>\n",
       "      <td>1371816873</td>\n",
       "      <td>39.450498</td>\n",
       "      <td>-109.960431</td>\n",
       "      <td>0</td>\n",
       "    </tr>\n",
       "    <tr>\n",
       "      <th>2</th>\n",
       "      <td>2</td>\n",
       "      <td>2020-06-21 12:14:53</td>\n",
       "      <td>3598215285024754</td>\n",
       "      <td>fraud_Swaniawski, Nitzsche and Welch</td>\n",
       "      <td>health_fitness</td>\n",
       "      <td>41.28</td>\n",
       "      <td>Ashley</td>\n",
       "      <td>Lopez</td>\n",
       "      <td>F</td>\n",
       "      <td>9333 Valentine Point</td>\n",
       "      <td>Bellmore</td>\n",
       "      <td>NY</td>\n",
       "      <td>11710</td>\n",
       "      <td>40.6729</td>\n",
       "      <td>-73.5365</td>\n",
       "      <td>34496</td>\n",
       "      <td>Librarian, public</td>\n",
       "      <td>1970-10-21</td>\n",
       "      <td>c81755dbbbea9d5c77f094348a7579be</td>\n",
       "      <td>1371816893</td>\n",
       "      <td>40.495810</td>\n",
       "      <td>-74.196111</td>\n",
       "      <td>0</td>\n",
       "    </tr>\n",
       "    <tr>\n",
       "      <th>3</th>\n",
       "      <td>3</td>\n",
       "      <td>2020-06-21 12:15:15</td>\n",
       "      <td>3591919803438423</td>\n",
       "      <td>fraud_Haley Group</td>\n",
       "      <td>misc_pos</td>\n",
       "      <td>60.05</td>\n",
       "      <td>Brian</td>\n",
       "      <td>Williams</td>\n",
       "      <td>M</td>\n",
       "      <td>32941 Krystal Mill Apt. 552</td>\n",
       "      <td>Titusville</td>\n",
       "      <td>FL</td>\n",
       "      <td>32780</td>\n",
       "      <td>28.5697</td>\n",
       "      <td>-80.8191</td>\n",
       "      <td>54767</td>\n",
       "      <td>Set designer</td>\n",
       "      <td>1987-07-25</td>\n",
       "      <td>2159175b9efe66dc301f149d3d5abf8c</td>\n",
       "      <td>1371816915</td>\n",
       "      <td>28.812398</td>\n",
       "      <td>-80.883061</td>\n",
       "      <td>0</td>\n",
       "    </tr>\n",
       "    <tr>\n",
       "      <th>4</th>\n",
       "      <td>4</td>\n",
       "      <td>2020-06-21 12:15:17</td>\n",
       "      <td>3526826139003047</td>\n",
       "      <td>fraud_Johnston-Casper</td>\n",
       "      <td>travel</td>\n",
       "      <td>3.19</td>\n",
       "      <td>Nathan</td>\n",
       "      <td>Massey</td>\n",
       "      <td>M</td>\n",
       "      <td>5783 Evan Roads Apt. 465</td>\n",
       "      <td>Falmouth</td>\n",
       "      <td>MI</td>\n",
       "      <td>49632</td>\n",
       "      <td>44.2529</td>\n",
       "      <td>-85.0170</td>\n",
       "      <td>1126</td>\n",
       "      <td>Furniture designer</td>\n",
       "      <td>1955-07-06</td>\n",
       "      <td>57ff021bd3f328f8738bb535c302a31b</td>\n",
       "      <td>1371816917</td>\n",
       "      <td>44.959148</td>\n",
       "      <td>-85.884734</td>\n",
       "      <td>0</td>\n",
       "    </tr>\n",
       "  </tbody>\n",
       "</table>\n",
       "</div>"
      ],
      "text/plain": [
       "   Unnamed: 0 trans_date_trans_time            cc_num  \\\n",
       "0           0   2020-06-21 12:14:25  2291163933867244   \n",
       "1           1   2020-06-21 12:14:33  3573030041201292   \n",
       "2           2   2020-06-21 12:14:53  3598215285024754   \n",
       "3           3   2020-06-21 12:15:15  3591919803438423   \n",
       "4           4   2020-06-21 12:15:17  3526826139003047   \n",
       "\n",
       "                               merchant        category    amt   first  \\\n",
       "0                 fraud_Kirlin and Sons   personal_care   2.86    Jeff   \n",
       "1                  fraud_Sporer-Keebler   personal_care  29.84  Joanne   \n",
       "2  fraud_Swaniawski, Nitzsche and Welch  health_fitness  41.28  Ashley   \n",
       "3                     fraud_Haley Group        misc_pos  60.05   Brian   \n",
       "4                 fraud_Johnston-Casper          travel   3.19  Nathan   \n",
       "\n",
       "       last gender                       street        city state    zip  \\\n",
       "0   Elliott      M            351 Darlene Green    Columbia    SC  29209   \n",
       "1  Williams      F             3638 Marsh Union     Altonah    UT  84002   \n",
       "2     Lopez      F         9333 Valentine Point    Bellmore    NY  11710   \n",
       "3  Williams      M  32941 Krystal Mill Apt. 552  Titusville    FL  32780   \n",
       "4    Massey      M     5783 Evan Roads Apt. 465    Falmouth    MI  49632   \n",
       "\n",
       "       lat      long  city_pop                     job         dob  \\\n",
       "0  33.9659  -80.9355    333497     Mechanical engineer  1968-03-19   \n",
       "1  40.3207 -110.4360       302  Sales professional, IT  1990-01-17   \n",
       "2  40.6729  -73.5365     34496       Librarian, public  1970-10-21   \n",
       "3  28.5697  -80.8191     54767            Set designer  1987-07-25   \n",
       "4  44.2529  -85.0170      1126      Furniture designer  1955-07-06   \n",
       "\n",
       "                          trans_num   unix_time  merch_lat  merch_long  \\\n",
       "0  2da90c7d74bd46a0caf3777415b3ebd3  1371816865  33.986391  -81.200714   \n",
       "1  324cc204407e99f51b0d6ca0055005e7  1371816873  39.450498 -109.960431   \n",
       "2  c81755dbbbea9d5c77f094348a7579be  1371816893  40.495810  -74.196111   \n",
       "3  2159175b9efe66dc301f149d3d5abf8c  1371816915  28.812398  -80.883061   \n",
       "4  57ff021bd3f328f8738bb535c302a31b  1371816917  44.959148  -85.884734   \n",
       "\n",
       "   is_fraud  \n",
       "0         0  \n",
       "1         0  \n",
       "2         0  \n",
       "3         0  \n",
       "4         0  "
      ]
     },
     "execution_count": 8,
     "metadata": {},
     "output_type": "execute_result"
    }
   ],
   "source": [
    "# Previewing the top of our test dataset\n",
    "credits_test_df.head()"
   ]
  },
  {
   "cell_type": "code",
   "execution_count": 9,
   "metadata": {},
   "outputs": [
    {
     "data": {
      "text/html": [
       "<div>\n",
       "<style scoped>\n",
       "    .dataframe tbody tr th:only-of-type {\n",
       "        vertical-align: middle;\n",
       "    }\n",
       "\n",
       "    .dataframe tbody tr th {\n",
       "        vertical-align: top;\n",
       "    }\n",
       "\n",
       "    .dataframe thead th {\n",
       "        text-align: right;\n",
       "    }\n",
       "</style>\n",
       "<table border=\"1\" class=\"dataframe\">\n",
       "  <thead>\n",
       "    <tr style=\"text-align: right;\">\n",
       "      <th></th>\n",
       "      <th>Unnamed: 0</th>\n",
       "      <th>trans_date_trans_time</th>\n",
       "      <th>cc_num</th>\n",
       "      <th>merchant</th>\n",
       "      <th>category</th>\n",
       "      <th>amt</th>\n",
       "      <th>first</th>\n",
       "      <th>last</th>\n",
       "      <th>gender</th>\n",
       "      <th>street</th>\n",
       "      <th>city</th>\n",
       "      <th>state</th>\n",
       "      <th>zip</th>\n",
       "      <th>lat</th>\n",
       "      <th>long</th>\n",
       "      <th>city_pop</th>\n",
       "      <th>job</th>\n",
       "      <th>dob</th>\n",
       "      <th>trans_num</th>\n",
       "      <th>unix_time</th>\n",
       "      <th>merch_lat</th>\n",
       "      <th>merch_long</th>\n",
       "      <th>is_fraud</th>\n",
       "    </tr>\n",
       "  </thead>\n",
       "  <tbody>\n",
       "    <tr>\n",
       "      <th>555714</th>\n",
       "      <td>555714</td>\n",
       "      <td>2020-12-31 23:59:07</td>\n",
       "      <td>30560609640617</td>\n",
       "      <td>fraud_Reilly and Sons</td>\n",
       "      <td>health_fitness</td>\n",
       "      <td>43.77</td>\n",
       "      <td>Michael</td>\n",
       "      <td>Olson</td>\n",
       "      <td>M</td>\n",
       "      <td>558 Michael Estates</td>\n",
       "      <td>Luray</td>\n",
       "      <td>MO</td>\n",
       "      <td>63453</td>\n",
       "      <td>40.4931</td>\n",
       "      <td>-91.8912</td>\n",
       "      <td>519</td>\n",
       "      <td>Town planner</td>\n",
       "      <td>1966-02-13</td>\n",
       "      <td>9b1f753c79894c9f4b71f04581835ada</td>\n",
       "      <td>1388534347</td>\n",
       "      <td>39.946837</td>\n",
       "      <td>-91.333331</td>\n",
       "      <td>0</td>\n",
       "    </tr>\n",
       "    <tr>\n",
       "      <th>555715</th>\n",
       "      <td>555715</td>\n",
       "      <td>2020-12-31 23:59:09</td>\n",
       "      <td>3556613125071656</td>\n",
       "      <td>fraud_Hoppe-Parisian</td>\n",
       "      <td>kids_pets</td>\n",
       "      <td>111.84</td>\n",
       "      <td>Jose</td>\n",
       "      <td>Vasquez</td>\n",
       "      <td>M</td>\n",
       "      <td>572 Davis Mountains</td>\n",
       "      <td>Lake Jackson</td>\n",
       "      <td>TX</td>\n",
       "      <td>77566</td>\n",
       "      <td>29.0393</td>\n",
       "      <td>-95.4401</td>\n",
       "      <td>28739</td>\n",
       "      <td>Futures trader</td>\n",
       "      <td>1999-12-27</td>\n",
       "      <td>2090647dac2c89a1d86c514c427f5b91</td>\n",
       "      <td>1388534349</td>\n",
       "      <td>29.661049</td>\n",
       "      <td>-96.186633</td>\n",
       "      <td>0</td>\n",
       "    </tr>\n",
       "    <tr>\n",
       "      <th>555716</th>\n",
       "      <td>555716</td>\n",
       "      <td>2020-12-31 23:59:15</td>\n",
       "      <td>6011724471098086</td>\n",
       "      <td>fraud_Rau-Robel</td>\n",
       "      <td>kids_pets</td>\n",
       "      <td>86.88</td>\n",
       "      <td>Ann</td>\n",
       "      <td>Lawson</td>\n",
       "      <td>F</td>\n",
       "      <td>144 Evans Islands Apt. 683</td>\n",
       "      <td>Burbank</td>\n",
       "      <td>WA</td>\n",
       "      <td>99323</td>\n",
       "      <td>46.1966</td>\n",
       "      <td>-118.9017</td>\n",
       "      <td>3684</td>\n",
       "      <td>Musician</td>\n",
       "      <td>1981-11-29</td>\n",
       "      <td>6c5b7c8add471975aa0fec023b2e8408</td>\n",
       "      <td>1388534355</td>\n",
       "      <td>46.658340</td>\n",
       "      <td>-119.715054</td>\n",
       "      <td>0</td>\n",
       "    </tr>\n",
       "    <tr>\n",
       "      <th>555717</th>\n",
       "      <td>555717</td>\n",
       "      <td>2020-12-31 23:59:24</td>\n",
       "      <td>4079773899158</td>\n",
       "      <td>fraud_Breitenberg LLC</td>\n",
       "      <td>travel</td>\n",
       "      <td>7.99</td>\n",
       "      <td>Eric</td>\n",
       "      <td>Preston</td>\n",
       "      <td>M</td>\n",
       "      <td>7020 Doyle Stream Apt. 951</td>\n",
       "      <td>Mesa</td>\n",
       "      <td>ID</td>\n",
       "      <td>83643</td>\n",
       "      <td>44.6255</td>\n",
       "      <td>-116.4493</td>\n",
       "      <td>129</td>\n",
       "      <td>Cartographer</td>\n",
       "      <td>1965-12-15</td>\n",
       "      <td>14392d723bb7737606b2700ac791b7aa</td>\n",
       "      <td>1388534364</td>\n",
       "      <td>44.470525</td>\n",
       "      <td>-117.080888</td>\n",
       "      <td>0</td>\n",
       "    </tr>\n",
       "    <tr>\n",
       "      <th>555718</th>\n",
       "      <td>555718</td>\n",
       "      <td>2020-12-31 23:59:34</td>\n",
       "      <td>4170689372027579</td>\n",
       "      <td>fraud_Dare-Marvin</td>\n",
       "      <td>entertainment</td>\n",
       "      <td>38.13</td>\n",
       "      <td>Samuel</td>\n",
       "      <td>Frey</td>\n",
       "      <td>M</td>\n",
       "      <td>830 Myers Plaza Apt. 384</td>\n",
       "      <td>Edmond</td>\n",
       "      <td>OK</td>\n",
       "      <td>73034</td>\n",
       "      <td>35.6665</td>\n",
       "      <td>-97.4798</td>\n",
       "      <td>116001</td>\n",
       "      <td>Media buyer</td>\n",
       "      <td>1993-05-10</td>\n",
       "      <td>1765bb45b3aa3224b4cdcb6e7a96cee3</td>\n",
       "      <td>1388534374</td>\n",
       "      <td>36.210097</td>\n",
       "      <td>-97.036372</td>\n",
       "      <td>0</td>\n",
       "    </tr>\n",
       "  </tbody>\n",
       "</table>\n",
       "</div>"
      ],
      "text/plain": [
       "        Unnamed: 0 trans_date_trans_time            cc_num  \\\n",
       "555714      555714   2020-12-31 23:59:07    30560609640617   \n",
       "555715      555715   2020-12-31 23:59:09  3556613125071656   \n",
       "555716      555716   2020-12-31 23:59:15  6011724471098086   \n",
       "555717      555717   2020-12-31 23:59:24     4079773899158   \n",
       "555718      555718   2020-12-31 23:59:34  4170689372027579   \n",
       "\n",
       "                     merchant        category     amt    first     last  \\\n",
       "555714  fraud_Reilly and Sons  health_fitness   43.77  Michael    Olson   \n",
       "555715   fraud_Hoppe-Parisian       kids_pets  111.84     Jose  Vasquez   \n",
       "555716        fraud_Rau-Robel       kids_pets   86.88      Ann   Lawson   \n",
       "555717  fraud_Breitenberg LLC          travel    7.99     Eric  Preston   \n",
       "555718      fraud_Dare-Marvin   entertainment   38.13   Samuel     Frey   \n",
       "\n",
       "       gender                      street          city state    zip      lat  \\\n",
       "555714      M         558 Michael Estates         Luray    MO  63453  40.4931   \n",
       "555715      M         572 Davis Mountains  Lake Jackson    TX  77566  29.0393   \n",
       "555716      F  144 Evans Islands Apt. 683       Burbank    WA  99323  46.1966   \n",
       "555717      M  7020 Doyle Stream Apt. 951          Mesa    ID  83643  44.6255   \n",
       "555718      M    830 Myers Plaza Apt. 384        Edmond    OK  73034  35.6665   \n",
       "\n",
       "            long  city_pop             job         dob  \\\n",
       "555714  -91.8912       519    Town planner  1966-02-13   \n",
       "555715  -95.4401     28739  Futures trader  1999-12-27   \n",
       "555716 -118.9017      3684        Musician  1981-11-29   \n",
       "555717 -116.4493       129    Cartographer  1965-12-15   \n",
       "555718  -97.4798    116001     Media buyer  1993-05-10   \n",
       "\n",
       "                               trans_num   unix_time  merch_lat  merch_long  \\\n",
       "555714  9b1f753c79894c9f4b71f04581835ada  1388534347  39.946837  -91.333331   \n",
       "555715  2090647dac2c89a1d86c514c427f5b91  1388534349  29.661049  -96.186633   \n",
       "555716  6c5b7c8add471975aa0fec023b2e8408  1388534355  46.658340 -119.715054   \n",
       "555717  14392d723bb7737606b2700ac791b7aa  1388534364  44.470525 -117.080888   \n",
       "555718  1765bb45b3aa3224b4cdcb6e7a96cee3  1388534374  36.210097  -97.036372   \n",
       "\n",
       "        is_fraud  \n",
       "555714         0  \n",
       "555715         0  \n",
       "555716         0  \n",
       "555717         0  \n",
       "555718         0  "
      ]
     },
     "execution_count": 9,
     "metadata": {},
     "output_type": "execute_result"
    }
   ],
   "source": [
    "# Previewing the bottom of our test dataset\n",
    "credits_test_df.tail()"
   ]
  },
  {
   "cell_type": "code",
   "execution_count": 10,
   "metadata": {},
   "outputs": [
    {
     "name": "stdout",
     "output_type": "stream",
     "text": [
      "The train set has (1296675, 23) rows and columns\n"
     ]
    }
   ],
   "source": [
    "#Checking no.of records in the train dataset\n",
    "print(f'The train set has {credits_df.shape} rows and columns')"
   ]
  },
  {
   "cell_type": "code",
   "execution_count": 11,
   "metadata": {},
   "outputs": [
    {
     "name": "stdout",
     "output_type": "stream",
     "text": [
      "The test set has (555719, 23) rows and columns\n"
     ]
    }
   ],
   "source": [
    "#Checking the shape of the test dataset\n",
    "print(f'The test set has {credits_test_df.shape} rows and columns')"
   ]
  },
  {
   "cell_type": "code",
   "execution_count": 12,
   "metadata": {},
   "outputs": [
    {
     "data": {
      "text/plain": [
       "Unnamed: 0                 int64\n",
       "trans_date_trans_time     object\n",
       "cc_num                     int64\n",
       "merchant                  object\n",
       "category                  object\n",
       "amt                      float64\n",
       "first                     object\n",
       "last                      object\n",
       "gender                    object\n",
       "street                    object\n",
       "city                      object\n",
       "state                     object\n",
       "zip                        int64\n",
       "lat                      float64\n",
       "long                     float64\n",
       "city_pop                   int64\n",
       "job                       object\n",
       "dob                       object\n",
       "trans_num                 object\n",
       "unix_time                  int64\n",
       "merch_lat                float64\n",
       "merch_long               float64\n",
       "is_fraud                   int64\n",
       "dtype: object"
      ]
     },
     "execution_count": 12,
     "metadata": {},
     "output_type": "execute_result"
    }
   ],
   "source": [
    "# Checking whether each column has an appropriate datatype in the train dataset\n",
    "credits_df.dtypes"
   ]
  },
  {
   "cell_type": "code",
   "execution_count": 13,
   "metadata": {},
   "outputs": [
    {
     "data": {
      "text/plain": [
       "Unnamed: 0                 int64\n",
       "trans_date_trans_time     object\n",
       "cc_num                     int64\n",
       "merchant                  object\n",
       "category                  object\n",
       "amt                      float64\n",
       "first                     object\n",
       "last                      object\n",
       "gender                    object\n",
       "street                    object\n",
       "city                      object\n",
       "state                     object\n",
       "zip                        int64\n",
       "lat                      float64\n",
       "long                     float64\n",
       "city_pop                   int64\n",
       "job                       object\n",
       "dob                       object\n",
       "trans_num                 object\n",
       "unix_time                  int64\n",
       "merch_lat                float64\n",
       "merch_long               float64\n",
       "is_fraud                   int64\n",
       "dtype: object"
      ]
     },
     "execution_count": 13,
     "metadata": {},
     "output_type": "execute_result"
    }
   ],
   "source": [
    "# Checking whether each column has an appropriate datatype in the test dataset\n",
    "credits_test_df.dtypes"
   ]
  },
  {
   "cell_type": "code",
   "execution_count": 14,
   "metadata": {},
   "outputs": [
    {
     "name": "stdout",
     "output_type": "stream",
     "text": [
      "<class 'pandas.core.frame.DataFrame'>\n",
      "RangeIndex: 1296675 entries, 0 to 1296674\n",
      "Data columns (total 23 columns):\n",
      " #   Column                 Non-Null Count    Dtype  \n",
      "---  ------                 --------------    -----  \n",
      " 0   Unnamed: 0             1296675 non-null  int64  \n",
      " 1   trans_date_trans_time  1296675 non-null  object \n",
      " 2   cc_num                 1296675 non-null  int64  \n",
      " 3   merchant               1296675 non-null  object \n",
      " 4   category               1296675 non-null  object \n",
      " 5   amt                    1296675 non-null  float64\n",
      " 6   first                  1296675 non-null  object \n",
      " 7   last                   1296675 non-null  object \n",
      " 8   gender                 1296675 non-null  object \n",
      " 9   street                 1296675 non-null  object \n",
      " 10  city                   1296675 non-null  object \n",
      " 11  state                  1296675 non-null  object \n",
      " 12  zip                    1296675 non-null  int64  \n",
      " 13  lat                    1296675 non-null  float64\n",
      " 14  long                   1296675 non-null  float64\n",
      " 15  city_pop               1296675 non-null  int64  \n",
      " 16  job                    1296675 non-null  object \n",
      " 17  dob                    1296675 non-null  object \n",
      " 18  trans_num              1296675 non-null  object \n",
      " 19  unix_time              1296675 non-null  int64  \n",
      " 20  merch_lat              1296675 non-null  float64\n",
      " 21  merch_long             1296675 non-null  float64\n",
      " 22  is_fraud               1296675 non-null  int64  \n",
      "dtypes: float64(5), int64(6), object(12)\n",
      "memory usage: 227.5+ MB\n"
     ]
    }
   ],
   "source": [
    "# Checking the info in the train dataset\n",
    "credits_df.info()"
   ]
  },
  {
   "cell_type": "code",
   "execution_count": 15,
   "metadata": {},
   "outputs": [
    {
     "data": {
      "text/html": [
       "<div>\n",
       "<style scoped>\n",
       "    .dataframe tbody tr th:only-of-type {\n",
       "        vertical-align: middle;\n",
       "    }\n",
       "\n",
       "    .dataframe tbody tr th {\n",
       "        vertical-align: top;\n",
       "    }\n",
       "\n",
       "    .dataframe thead th {\n",
       "        text-align: right;\n",
       "    }\n",
       "</style>\n",
       "<table border=\"1\" class=\"dataframe\">\n",
       "  <thead>\n",
       "    <tr style=\"text-align: right;\">\n",
       "      <th></th>\n",
       "      <th>Unnamed: 0</th>\n",
       "      <th>cc_num</th>\n",
       "      <th>amt</th>\n",
       "      <th>zip</th>\n",
       "      <th>lat</th>\n",
       "      <th>long</th>\n",
       "      <th>city_pop</th>\n",
       "      <th>unix_time</th>\n",
       "      <th>merch_lat</th>\n",
       "      <th>merch_long</th>\n",
       "      <th>is_fraud</th>\n",
       "    </tr>\n",
       "  </thead>\n",
       "  <tbody>\n",
       "    <tr>\n",
       "      <th>count</th>\n",
       "      <td>1.296675e+06</td>\n",
       "      <td>1.296675e+06</td>\n",
       "      <td>1.296675e+06</td>\n",
       "      <td>1.296675e+06</td>\n",
       "      <td>1.296675e+06</td>\n",
       "      <td>1.296675e+06</td>\n",
       "      <td>1.296675e+06</td>\n",
       "      <td>1.296675e+06</td>\n",
       "      <td>1.296675e+06</td>\n",
       "      <td>1.296675e+06</td>\n",
       "      <td>1.296675e+06</td>\n",
       "    </tr>\n",
       "    <tr>\n",
       "      <th>mean</th>\n",
       "      <td>6.483370e+05</td>\n",
       "      <td>4.171920e+17</td>\n",
       "      <td>7.035104e+01</td>\n",
       "      <td>4.880067e+04</td>\n",
       "      <td>3.853762e+01</td>\n",
       "      <td>-9.022634e+01</td>\n",
       "      <td>8.882444e+04</td>\n",
       "      <td>1.349244e+09</td>\n",
       "      <td>3.853734e+01</td>\n",
       "      <td>-9.022646e+01</td>\n",
       "      <td>5.788652e-03</td>\n",
       "    </tr>\n",
       "    <tr>\n",
       "      <th>std</th>\n",
       "      <td>3.743180e+05</td>\n",
       "      <td>1.308806e+18</td>\n",
       "      <td>1.603160e+02</td>\n",
       "      <td>2.689322e+04</td>\n",
       "      <td>5.075808e+00</td>\n",
       "      <td>1.375908e+01</td>\n",
       "      <td>3.019564e+05</td>\n",
       "      <td>1.284128e+07</td>\n",
       "      <td>5.109788e+00</td>\n",
       "      <td>1.377109e+01</td>\n",
       "      <td>7.586269e-02</td>\n",
       "    </tr>\n",
       "    <tr>\n",
       "      <th>min</th>\n",
       "      <td>0.000000e+00</td>\n",
       "      <td>6.041621e+10</td>\n",
       "      <td>1.000000e+00</td>\n",
       "      <td>1.257000e+03</td>\n",
       "      <td>2.002710e+01</td>\n",
       "      <td>-1.656723e+02</td>\n",
       "      <td>2.300000e+01</td>\n",
       "      <td>1.325376e+09</td>\n",
       "      <td>1.902779e+01</td>\n",
       "      <td>-1.666712e+02</td>\n",
       "      <td>0.000000e+00</td>\n",
       "    </tr>\n",
       "    <tr>\n",
       "      <th>25%</th>\n",
       "      <td>3.241685e+05</td>\n",
       "      <td>1.800429e+14</td>\n",
       "      <td>9.650000e+00</td>\n",
       "      <td>2.623700e+04</td>\n",
       "      <td>3.462050e+01</td>\n",
       "      <td>-9.679800e+01</td>\n",
       "      <td>7.430000e+02</td>\n",
       "      <td>1.338751e+09</td>\n",
       "      <td>3.473357e+01</td>\n",
       "      <td>-9.689728e+01</td>\n",
       "      <td>0.000000e+00</td>\n",
       "    </tr>\n",
       "    <tr>\n",
       "      <th>50%</th>\n",
       "      <td>6.483370e+05</td>\n",
       "      <td>3.521417e+15</td>\n",
       "      <td>4.752000e+01</td>\n",
       "      <td>4.817400e+04</td>\n",
       "      <td>3.935430e+01</td>\n",
       "      <td>-8.747690e+01</td>\n",
       "      <td>2.456000e+03</td>\n",
       "      <td>1.349250e+09</td>\n",
       "      <td>3.936568e+01</td>\n",
       "      <td>-8.743839e+01</td>\n",
       "      <td>0.000000e+00</td>\n",
       "    </tr>\n",
       "    <tr>\n",
       "      <th>75%</th>\n",
       "      <td>9.725055e+05</td>\n",
       "      <td>4.642255e+15</td>\n",
       "      <td>8.314000e+01</td>\n",
       "      <td>7.204200e+04</td>\n",
       "      <td>4.194040e+01</td>\n",
       "      <td>-8.015800e+01</td>\n",
       "      <td>2.032800e+04</td>\n",
       "      <td>1.359385e+09</td>\n",
       "      <td>4.195716e+01</td>\n",
       "      <td>-8.023680e+01</td>\n",
       "      <td>0.000000e+00</td>\n",
       "    </tr>\n",
       "    <tr>\n",
       "      <th>max</th>\n",
       "      <td>1.296674e+06</td>\n",
       "      <td>4.992346e+18</td>\n",
       "      <td>2.894890e+04</td>\n",
       "      <td>9.978300e+04</td>\n",
       "      <td>6.669330e+01</td>\n",
       "      <td>-6.795030e+01</td>\n",
       "      <td>2.906700e+06</td>\n",
       "      <td>1.371817e+09</td>\n",
       "      <td>6.751027e+01</td>\n",
       "      <td>-6.695090e+01</td>\n",
       "      <td>1.000000e+00</td>\n",
       "    </tr>\n",
       "  </tbody>\n",
       "</table>\n",
       "</div>"
      ],
      "text/plain": [
       "         Unnamed: 0        cc_num           amt           zip           lat  \\\n",
       "count  1.296675e+06  1.296675e+06  1.296675e+06  1.296675e+06  1.296675e+06   \n",
       "mean   6.483370e+05  4.171920e+17  7.035104e+01  4.880067e+04  3.853762e+01   \n",
       "std    3.743180e+05  1.308806e+18  1.603160e+02  2.689322e+04  5.075808e+00   \n",
       "min    0.000000e+00  6.041621e+10  1.000000e+00  1.257000e+03  2.002710e+01   \n",
       "25%    3.241685e+05  1.800429e+14  9.650000e+00  2.623700e+04  3.462050e+01   \n",
       "50%    6.483370e+05  3.521417e+15  4.752000e+01  4.817400e+04  3.935430e+01   \n",
       "75%    9.725055e+05  4.642255e+15  8.314000e+01  7.204200e+04  4.194040e+01   \n",
       "max    1.296674e+06  4.992346e+18  2.894890e+04  9.978300e+04  6.669330e+01   \n",
       "\n",
       "               long      city_pop     unix_time     merch_lat    merch_long  \\\n",
       "count  1.296675e+06  1.296675e+06  1.296675e+06  1.296675e+06  1.296675e+06   \n",
       "mean  -9.022634e+01  8.882444e+04  1.349244e+09  3.853734e+01 -9.022646e+01   \n",
       "std    1.375908e+01  3.019564e+05  1.284128e+07  5.109788e+00  1.377109e+01   \n",
       "min   -1.656723e+02  2.300000e+01  1.325376e+09  1.902779e+01 -1.666712e+02   \n",
       "25%   -9.679800e+01  7.430000e+02  1.338751e+09  3.473357e+01 -9.689728e+01   \n",
       "50%   -8.747690e+01  2.456000e+03  1.349250e+09  3.936568e+01 -8.743839e+01   \n",
       "75%   -8.015800e+01  2.032800e+04  1.359385e+09  4.195716e+01 -8.023680e+01   \n",
       "max   -6.795030e+01  2.906700e+06  1.371817e+09  6.751027e+01 -6.695090e+01   \n",
       "\n",
       "           is_fraud  \n",
       "count  1.296675e+06  \n",
       "mean   5.788652e-03  \n",
       "std    7.586269e-02  \n",
       "min    0.000000e+00  \n",
       "25%    0.000000e+00  \n",
       "50%    0.000000e+00  \n",
       "75%    0.000000e+00  \n",
       "max    1.000000e+00  "
      ]
     },
     "execution_count": 15,
     "metadata": {},
     "output_type": "execute_result"
    }
   ],
   "source": [
    "# Describing the data\n",
    "credits_df.describe()"
   ]
  },
  {
   "cell_type": "code",
   "execution_count": 16,
   "metadata": {},
   "outputs": [
    {
     "name": "stdout",
     "output_type": "stream",
     "text": [
      "<class 'pandas.core.frame.DataFrame'>\n",
      "RangeIndex: 555719 entries, 0 to 555718\n",
      "Data columns (total 23 columns):\n",
      " #   Column                 Non-Null Count   Dtype  \n",
      "---  ------                 --------------   -----  \n",
      " 0   Unnamed: 0             555719 non-null  int64  \n",
      " 1   trans_date_trans_time  555719 non-null  object \n",
      " 2   cc_num                 555719 non-null  int64  \n",
      " 3   merchant               555719 non-null  object \n",
      " 4   category               555719 non-null  object \n",
      " 5   amt                    555719 non-null  float64\n",
      " 6   first                  555719 non-null  object \n",
      " 7   last                   555719 non-null  object \n",
      " 8   gender                 555719 non-null  object \n",
      " 9   street                 555719 non-null  object \n",
      " 10  city                   555719 non-null  object \n",
      " 11  state                  555719 non-null  object \n",
      " 12  zip                    555719 non-null  int64  \n",
      " 13  lat                    555719 non-null  float64\n",
      " 14  long                   555719 non-null  float64\n",
      " 15  city_pop               555719 non-null  int64  \n",
      " 16  job                    555719 non-null  object \n",
      " 17  dob                    555719 non-null  object \n",
      " 18  trans_num              555719 non-null  object \n",
      " 19  unix_time              555719 non-null  int64  \n",
      " 20  merch_lat              555719 non-null  float64\n",
      " 21  merch_long             555719 non-null  float64\n",
      " 22  is_fraud               555719 non-null  int64  \n",
      "dtypes: float64(5), int64(6), object(12)\n",
      "memory usage: 97.5+ MB\n"
     ]
    }
   ],
   "source": [
    "# Checking the info in the test dataset\n",
    "credits_test_df.info()"
   ]
  },
  {
   "cell_type": "code",
   "execution_count": 17,
   "metadata": {},
   "outputs": [
    {
     "data": {
      "text/html": [
       "<div>\n",
       "<style scoped>\n",
       "    .dataframe tbody tr th:only-of-type {\n",
       "        vertical-align: middle;\n",
       "    }\n",
       "\n",
       "    .dataframe tbody tr th {\n",
       "        vertical-align: top;\n",
       "    }\n",
       "\n",
       "    .dataframe thead th {\n",
       "        text-align: right;\n",
       "    }\n",
       "</style>\n",
       "<table border=\"1\" class=\"dataframe\">\n",
       "  <thead>\n",
       "    <tr style=\"text-align: right;\">\n",
       "      <th></th>\n",
       "      <th>Unnamed: 0</th>\n",
       "      <th>cc_num</th>\n",
       "      <th>amt</th>\n",
       "      <th>zip</th>\n",
       "      <th>lat</th>\n",
       "      <th>long</th>\n",
       "      <th>city_pop</th>\n",
       "      <th>unix_time</th>\n",
       "      <th>merch_lat</th>\n",
       "      <th>merch_long</th>\n",
       "      <th>is_fraud</th>\n",
       "    </tr>\n",
       "  </thead>\n",
       "  <tbody>\n",
       "    <tr>\n",
       "      <th>count</th>\n",
       "      <td>555719.000000</td>\n",
       "      <td>5.557190e+05</td>\n",
       "      <td>555719.000000</td>\n",
       "      <td>555719.000000</td>\n",
       "      <td>555719.000000</td>\n",
       "      <td>555719.000000</td>\n",
       "      <td>5.557190e+05</td>\n",
       "      <td>5.557190e+05</td>\n",
       "      <td>555719.000000</td>\n",
       "      <td>555719.000000</td>\n",
       "      <td>555719.000000</td>\n",
       "    </tr>\n",
       "    <tr>\n",
       "      <th>mean</th>\n",
       "      <td>277859.000000</td>\n",
       "      <td>4.178387e+17</td>\n",
       "      <td>69.392810</td>\n",
       "      <td>48842.628015</td>\n",
       "      <td>38.543253</td>\n",
       "      <td>-90.231325</td>\n",
       "      <td>8.822189e+04</td>\n",
       "      <td>1.380679e+09</td>\n",
       "      <td>38.542798</td>\n",
       "      <td>-90.231380</td>\n",
       "      <td>0.003860</td>\n",
       "    </tr>\n",
       "    <tr>\n",
       "      <th>std</th>\n",
       "      <td>160422.401459</td>\n",
       "      <td>1.309837e+18</td>\n",
       "      <td>156.745941</td>\n",
       "      <td>26855.283328</td>\n",
       "      <td>5.061336</td>\n",
       "      <td>13.721780</td>\n",
       "      <td>3.003909e+05</td>\n",
       "      <td>5.201104e+06</td>\n",
       "      <td>5.095829</td>\n",
       "      <td>13.733071</td>\n",
       "      <td>0.062008</td>\n",
       "    </tr>\n",
       "    <tr>\n",
       "      <th>min</th>\n",
       "      <td>0.000000</td>\n",
       "      <td>6.041621e+10</td>\n",
       "      <td>1.000000</td>\n",
       "      <td>1257.000000</td>\n",
       "      <td>20.027100</td>\n",
       "      <td>-165.672300</td>\n",
       "      <td>2.300000e+01</td>\n",
       "      <td>1.371817e+09</td>\n",
       "      <td>19.027422</td>\n",
       "      <td>-166.671575</td>\n",
       "      <td>0.000000</td>\n",
       "    </tr>\n",
       "    <tr>\n",
       "      <th>25%</th>\n",
       "      <td>138929.500000</td>\n",
       "      <td>1.800429e+14</td>\n",
       "      <td>9.630000</td>\n",
       "      <td>26292.000000</td>\n",
       "      <td>34.668900</td>\n",
       "      <td>-96.798000</td>\n",
       "      <td>7.410000e+02</td>\n",
       "      <td>1.376029e+09</td>\n",
       "      <td>34.755302</td>\n",
       "      <td>-96.905129</td>\n",
       "      <td>0.000000</td>\n",
       "    </tr>\n",
       "    <tr>\n",
       "      <th>50%</th>\n",
       "      <td>277859.000000</td>\n",
       "      <td>3.521417e+15</td>\n",
       "      <td>47.290000</td>\n",
       "      <td>48174.000000</td>\n",
       "      <td>39.371600</td>\n",
       "      <td>-87.476900</td>\n",
       "      <td>2.408000e+03</td>\n",
       "      <td>1.380762e+09</td>\n",
       "      <td>39.376593</td>\n",
       "      <td>-87.445204</td>\n",
       "      <td>0.000000</td>\n",
       "    </tr>\n",
       "    <tr>\n",
       "      <th>75%</th>\n",
       "      <td>416788.500000</td>\n",
       "      <td>4.635331e+15</td>\n",
       "      <td>83.010000</td>\n",
       "      <td>72011.000000</td>\n",
       "      <td>41.894800</td>\n",
       "      <td>-80.175200</td>\n",
       "      <td>1.968500e+04</td>\n",
       "      <td>1.385867e+09</td>\n",
       "      <td>41.954163</td>\n",
       "      <td>-80.264637</td>\n",
       "      <td>0.000000</td>\n",
       "    </tr>\n",
       "    <tr>\n",
       "      <th>max</th>\n",
       "      <td>555718.000000</td>\n",
       "      <td>4.992346e+18</td>\n",
       "      <td>22768.110000</td>\n",
       "      <td>99921.000000</td>\n",
       "      <td>65.689900</td>\n",
       "      <td>-67.950300</td>\n",
       "      <td>2.906700e+06</td>\n",
       "      <td>1.388534e+09</td>\n",
       "      <td>66.679297</td>\n",
       "      <td>-66.952026</td>\n",
       "      <td>1.000000</td>\n",
       "    </tr>\n",
       "  </tbody>\n",
       "</table>\n",
       "</div>"
      ],
      "text/plain": [
       "          Unnamed: 0        cc_num            amt            zip  \\\n",
       "count  555719.000000  5.557190e+05  555719.000000  555719.000000   \n",
       "mean   277859.000000  4.178387e+17      69.392810   48842.628015   \n",
       "std    160422.401459  1.309837e+18     156.745941   26855.283328   \n",
       "min         0.000000  6.041621e+10       1.000000    1257.000000   \n",
       "25%    138929.500000  1.800429e+14       9.630000   26292.000000   \n",
       "50%    277859.000000  3.521417e+15      47.290000   48174.000000   \n",
       "75%    416788.500000  4.635331e+15      83.010000   72011.000000   \n",
       "max    555718.000000  4.992346e+18   22768.110000   99921.000000   \n",
       "\n",
       "                 lat           long      city_pop     unix_time  \\\n",
       "count  555719.000000  555719.000000  5.557190e+05  5.557190e+05   \n",
       "mean       38.543253     -90.231325  8.822189e+04  1.380679e+09   \n",
       "std         5.061336      13.721780  3.003909e+05  5.201104e+06   \n",
       "min        20.027100    -165.672300  2.300000e+01  1.371817e+09   \n",
       "25%        34.668900     -96.798000  7.410000e+02  1.376029e+09   \n",
       "50%        39.371600     -87.476900  2.408000e+03  1.380762e+09   \n",
       "75%        41.894800     -80.175200  1.968500e+04  1.385867e+09   \n",
       "max        65.689900     -67.950300  2.906700e+06  1.388534e+09   \n",
       "\n",
       "           merch_lat     merch_long       is_fraud  \n",
       "count  555719.000000  555719.000000  555719.000000  \n",
       "mean       38.542798     -90.231380       0.003860  \n",
       "std         5.095829      13.733071       0.062008  \n",
       "min        19.027422    -166.671575       0.000000  \n",
       "25%        34.755302     -96.905129       0.000000  \n",
       "50%        39.376593     -87.445204       0.000000  \n",
       "75%        41.954163     -80.264637       0.000000  \n",
       "max        66.679297     -66.952026       1.000000  "
      ]
     },
     "execution_count": 17,
     "metadata": {},
     "output_type": "execute_result"
    }
   ],
   "source": [
    "# Describing the data for the test dataset\n",
    "credits_test_df.describe()"
   ]
  },
  {
   "cell_type": "code",
   "execution_count": 18,
   "metadata": {
    "scrolled": true
   },
   "outputs": [
    {
     "name": "stdout",
     "output_type": "stream",
     "text": [
      "\n",
      "trans_date_trans_time\n",
      "\n",
      "2019-04-22 16:02:01    4\n",
      "2020-06-01 01:37:47    4\n",
      "2020-06-02 12:47:07    4\n",
      "2019-11-18 23:03:49    3\n",
      "2019-12-01 14:11:58    3\n",
      "                      ..\n",
      "2019-07-13 18:38:18    1\n",
      "2019-07-13 18:37:26    1\n",
      "2019-07-13 18:35:46    1\n",
      "2019-07-13 18:35:41    1\n",
      "2020-06-21 12:13:37    1\n",
      "Name: trans_date_trans_time, Length: 1274791, dtype: int64\n",
      "\n",
      "cc_num\n",
      "\n",
      "571365235126           3123\n",
      "4512828414983801773    3123\n",
      "36722699017270         3119\n",
      "213112402583773        3117\n",
      "3545109339866548       3113\n",
      "                       ... \n",
      "180097223252063           7\n",
      "4225628813173670          7\n",
      "501894933032              7\n",
      "4975457191020             7\n",
      "340187018810220           7\n",
      "Name: cc_num, Length: 983, dtype: int64\n",
      "\n",
      "merchant\n",
      "\n",
      "fraud_Kilback LLC                       4403\n",
      "fraud_Cormier LLC                       3649\n",
      "fraud_Schumm PLC                        3634\n",
      "fraud_Kuhn LLC                          3510\n",
      "fraud_Boyer PLC                         3493\n",
      "                                        ... \n",
      "fraud_Douglas, DuBuque and McKenzie      775\n",
      "fraud_Treutel-King                       775\n",
      "fraud_Medhurst, Labadie and Gottlieb     759\n",
      "fraud_Reichert-Weissnat                  753\n",
      "fraud_Hahn, Douglas and Schowalter       727\n",
      "Name: merchant, Length: 693, dtype: int64\n",
      "\n",
      "category\n",
      "\n",
      "gas_transport     131659\n",
      "grocery_pos       123638\n",
      "home              123115\n",
      "shopping_pos      116672\n",
      "kids_pets         113035\n",
      "shopping_net       97543\n",
      "entertainment      94014\n",
      "food_dining        91461\n",
      "personal_care      90758\n",
      "health_fitness     85879\n",
      "misc_pos           79655\n",
      "misc_net           63287\n",
      "grocery_net        45452\n",
      "travel             40507\n",
      "Name: category, dtype: int64\n",
      "\n",
      "amt\n",
      "\n",
      "1.14       542\n",
      "1.04       538\n",
      "1.25       535\n",
      "1.02       533\n",
      "1.01       523\n",
      "          ... \n",
      "334.21       1\n",
      "674.31       1\n",
      "358.59       1\n",
      "1159.68      1\n",
      "255.52       1\n",
      "Name: amt, Length: 52928, dtype: int64\n",
      "\n",
      "first\n",
      "\n",
      "Christopher    26669\n",
      "Robert         21667\n",
      "Jessica        20581\n",
      "James          20039\n",
      "Michael        20009\n",
      "               ...  \n",
      "Cameron            9\n",
      "Phyllis            8\n",
      "Molly              8\n",
      "Angelica           7\n",
      "Samantha           7\n",
      "Name: first, Length: 352, dtype: int64\n",
      "\n",
      "last\n",
      "\n",
      "Smith        28794\n",
      "Williams     23605\n",
      "Davis        21910\n",
      "Johnson      20034\n",
      "Rodriguez    17394\n",
      "             ...  \n",
      "Wells            9\n",
      "Peterson         9\n",
      "Strong           8\n",
      "Schaefer         7\n",
      "Blake            7\n",
      "Name: last, Length: 481, dtype: int64\n",
      "\n",
      "gender\n",
      "\n",
      "F    709863\n",
      "M    586812\n",
      "Name: gender, dtype: int64\n",
      "\n",
      "street\n",
      "\n",
      "0069 Robin Brooks Apt. 695           3123\n",
      "864 Reynolds Plains                  3123\n",
      "8172 Robertson Parkways Suite 072    3119\n",
      "4664 Sanchez Common Suite 930        3117\n",
      "8030 Beck Motorway                   3113\n",
      "                                     ... \n",
      "7281 Joshua Mills Apt. 077              7\n",
      "3307 Ferguson Way                       7\n",
      "9599 Washington Field Suite 238         7\n",
      "3437 Ross Flat Apt. 592                 7\n",
      "27954 Hall Mill Suite 575               7\n",
      "Name: street, Length: 983, dtype: int64\n",
      "\n",
      "city\n",
      "\n",
      "Birmingham     5617\n",
      "San Antonio    5130\n",
      "Utica          5105\n",
      "Phoenix        5075\n",
      "Meridian       5060\n",
      "               ... \n",
      "Vacaville         7\n",
      "Claypool          7\n",
      "Karns City        7\n",
      "Bruce             7\n",
      "Chattanooga       7\n",
      "Name: city, Length: 894, dtype: int64\n",
      "\n",
      "state\n",
      "\n",
      "TX    94876\n",
      "NY    83501\n",
      "PA    79847\n",
      "CA    56360\n",
      "OH    46480\n",
      "MI    46154\n",
      "IL    43252\n",
      "FL    42671\n",
      "AL    40989\n",
      "MO    38403\n",
      "MN    31714\n",
      "AR    31127\n",
      "NC    30266\n",
      "WI    29368\n",
      "VA    29250\n",
      "SC    29190\n",
      "KY    28475\n",
      "IN    27580\n",
      "IA    26985\n",
      "OK    26671\n",
      "MD    26193\n",
      "GA    26063\n",
      "WV    25691\n",
      "NJ    24603\n",
      "NE    24168\n",
      "KS    22996\n",
      "MS    21188\n",
      "LA    20965\n",
      "WY    19322\n",
      "WA    18924\n",
      "OR    18597\n",
      "TN    17554\n",
      "ME    16505\n",
      "NM    16407\n",
      "ND    14786\n",
      "CO    13880\n",
      "MA    12376\n",
      "SD    12324\n",
      "VT    11768\n",
      "MT    11754\n",
      "AZ    10770\n",
      "UT    10699\n",
      "NH     8278\n",
      "CT     7702\n",
      "NV     5607\n",
      "ID     5545\n",
      "DC     3613\n",
      "HI     2559\n",
      "AK     2120\n",
      "RI      550\n",
      "DE        9\n",
      "Name: state, dtype: int64\n",
      "\n",
      "zip\n",
      "\n",
      "73754    3646\n",
      "34112    3613\n",
      "48088    3597\n",
      "82514    3527\n",
      "49628    3123\n",
      "         ... \n",
      "46510       7\n",
      "16041       7\n",
      "38915       7\n",
      "10018       7\n",
      "23523       7\n",
      "Name: zip, Length: 970, dtype: int64\n",
      "\n",
      "lat\n",
      "\n",
      "36.3850    3646\n",
      "26.1184    3613\n",
      "42.5164    3597\n",
      "43.0048    3527\n",
      "39.8936    3123\n",
      "           ... \n",
      "35.0271       7\n",
      "38.3847       7\n",
      "29.7396       7\n",
      "29.4400       7\n",
      "41.1165       7\n",
      "Name: lat, Length: 968, dtype: int64\n",
      "\n",
      "long\n",
      "\n",
      "-98.0727     3646\n",
      "-81.7361     3613\n",
      "-82.9832     3597\n",
      "-108.8964    3527\n",
      "-79.7856     3123\n",
      "             ... \n",
      "-85.2356        7\n",
      "-121.9887       7\n",
      "-95.4460        7\n",
      "-98.4590        7\n",
      "-88.8307        7\n",
      "Name: long, Length: 969, dtype: int64\n",
      "\n",
      "city_pop\n",
      "\n",
      "606        5496\n",
      "1595797    5130\n",
      "1312922    5075\n",
      "1766       4574\n",
      "241        4533\n",
      "           ... \n",
      "99475         7\n",
      "198659        7\n",
      "4046          7\n",
      "1888          7\n",
      "3631          7\n",
      "Name: city_pop, Length: 879, dtype: int64\n",
      "\n",
      "job\n",
      "\n",
      "Film/video editor             9779\n",
      "Exhibition designer           9199\n",
      "Naval architect               8684\n",
      "Surveyor, land/geomatics      8680\n",
      "Materials engineer            8270\n",
      "                              ... \n",
      "Information officer              8\n",
      "Veterinary surgeon               8\n",
      "Ship broker                      7\n",
      "Contracting civil engineer       7\n",
      "Warehouse manager                7\n",
      "Name: job, Length: 494, dtype: int64\n",
      "\n",
      "dob\n",
      "\n",
      "1977-03-23    5636\n",
      "1981-08-29    4636\n",
      "1988-09-15    4623\n",
      "1955-05-06    3661\n",
      "1995-07-12    3123\n",
      "              ... \n",
      "1944-06-17       7\n",
      "1970-06-25       7\n",
      "1962-03-14       7\n",
      "1960-10-28       7\n",
      "1999-10-26       7\n",
      "Name: dob, Length: 968, dtype: int64\n",
      "\n",
      "trans_num\n",
      "\n",
      "0b242abb623afc578575680df30655b9    1\n",
      "c85864e7e7cf0be6d1b8597977b8afea    1\n",
      "1a8a2a05638a5503cc6bb8d5735efcc1    1\n",
      "4556eaf1f7def06eb500325cde4d054e    1\n",
      "5e915d9f88bd09cee9655a470d9bc0bd    1\n",
      "                                   ..\n",
      "2d1aa5b21a993788ac19b697598ca44c    1\n",
      "b50dd4b47d1ad877874661afba6eb7f6    1\n",
      "5ce4e974bf15b7d9f133c6eedb81ceb1    1\n",
      "64d601ddeaf4eba8b191bd1859998209    1\n",
      "8f7c8e4ab7f25875d753b422917c98c9    1\n",
      "Name: trans_num, Length: 1296675, dtype: int64\n",
      "\n",
      "unix_time\n",
      "\n",
      "1370177227    4\n",
      "1335110521    4\n",
      "1370050667    4\n",
      "1367602155    3\n",
      "1364686521    3\n",
      "             ..\n",
      "1342203558    1\n",
      "1342203557    1\n",
      "1342203554    1\n",
      "1342203541    1\n",
      "1371816817    1\n",
      "Name: unix_time, Length: 1274823, dtype: int64\n",
      "\n",
      "merch_lat\n",
      "\n",
      "41.305966    4\n",
      "41.937796    4\n",
      "42.265012    4\n",
      "41.301611    4\n",
      "34.134994    4\n",
      "            ..\n",
      "35.344250    1\n",
      "37.449502    1\n",
      "42.849010    1\n",
      "33.148290    1\n",
      "46.565983    1\n",
      "Name: merch_lat, Length: 1247805, dtype: int64\n",
      "\n",
      "merch_long\n",
      "\n",
      "-87.116414     4\n",
      "-81.219189     4\n",
      "-74.618269     4\n",
      "-85.326323     3\n",
      "-84.890305     3\n",
      "              ..\n",
      "-70.976502     1\n",
      "-76.712411     1\n",
      "-74.921121     1\n",
      "-82.578793     1\n",
      "-114.186110    1\n",
      "Name: merch_long, Length: 1275745, dtype: int64\n",
      "\n",
      "is_fraud\n",
      "\n",
      "0    1289169\n",
      "1       7506\n",
      "Name: is_fraud, dtype: int64\n"
     ]
    }
   ],
   "source": [
    "# Value counts for each column in train dataset\n",
    "for col in credits_df.columns[1:]:\n",
    "    print('\\n' + col + '\\n')\n",
    "    print(credits_df[col].value_counts())"
   ]
  },
  {
   "cell_type": "code",
   "execution_count": 19,
   "metadata": {
    "scrolled": true
   },
   "outputs": [
    {
     "name": "stdout",
     "output_type": "stream",
     "text": [
      "\n",
      "trans_date_trans_time\n",
      "\n",
      "2020-12-19 16:02:22    4\n",
      "2020-12-13 17:53:47    4\n",
      "2020-12-17 20:36:39    4\n",
      "2020-10-05 19:37:49    4\n",
      "2020-12-27 01:22:37    3\n",
      "                      ..\n",
      "2020-08-25 13:15:57    1\n",
      "2020-08-25 13:15:37    1\n",
      "2020-08-25 13:15:22    1\n",
      "2020-08-25 13:15:12    1\n",
      "2020-12-31 23:59:34    1\n",
      "Name: trans_date_trans_time, Length: 544760, dtype: int64\n",
      "\n",
      "cc_num\n",
      "\n",
      "6538441737335434       1474\n",
      "4586810168620942       1466\n",
      "4745996322265          1462\n",
      "4587657402165341815    1458\n",
      "2242542703101233       1428\n",
      "                       ... \n",
      "4883407061576             9\n",
      "4087542780207162          9\n",
      "3540416671210051          8\n",
      "4352307151555405069       7\n",
      "4295296907373             6\n",
      "Name: cc_num, Length: 924, dtype: int64\n",
      "\n",
      "merchant\n",
      "\n",
      "fraud_Kilback LLC                        1859\n",
      "fraud_Cormier LLC                        1597\n",
      "fraud_Schumm PLC                         1561\n",
      "fraud_Kuhn LLC                           1521\n",
      "fraud_Dickinson Ltd                      1519\n",
      "                                         ... \n",
      "fraud_Treutel-King                        323\n",
      "fraud_Satterfield-Lowe                    319\n",
      "fraud_Kessler Group                       318\n",
      "fraud_Jerde-Hermann                       312\n",
      "fraud_Ritchie, Bradtke and Stiedemann     304\n",
      "Name: merchant, Length: 693, dtype: int64\n",
      "\n",
      "category\n",
      "\n",
      "gas_transport     56370\n",
      "grocery_pos       52553\n",
      "home              52345\n",
      "shopping_pos      49791\n",
      "kids_pets         48692\n",
      "shopping_net      41779\n",
      "entertainment     40104\n",
      "personal_care     39327\n",
      "food_dining       39268\n",
      "health_fitness    36674\n",
      "misc_pos          34574\n",
      "misc_net          27367\n",
      "grocery_net       19426\n",
      "travel            17449\n",
      "Name: category, dtype: int64\n",
      "\n",
      "amt\n",
      "\n",
      "1.10       239\n",
      "1.14       237\n",
      "1.08       229\n",
      "1.65       227\n",
      "1.03       227\n",
      "          ... \n",
      "279.11       1\n",
      "708.96       1\n",
      "233.43       1\n",
      "399.94       1\n",
      "1164.37      1\n",
      "Name: amt, Length: 37256, dtype: int64\n",
      "\n",
      "first\n",
      "\n",
      "Christopher    11443\n",
      "Robert          9076\n",
      "Jessica         8655\n",
      "David           8599\n",
      "Michael         8530\n",
      "               ...  \n",
      "Mike             199\n",
      "Dennis            12\n",
      "Evan              12\n",
      "Bruce             10\n",
      "Nicole             9\n",
      "Name: first, Length: 341, dtype: int64\n",
      "\n",
      "last\n",
      "\n",
      "Smith        12146\n",
      "Williams     10056\n",
      "Davis         9524\n",
      "Johnson       8556\n",
      "Rodriguez     7485\n",
      "             ...  \n",
      "Santiago        12\n",
      "Bates           12\n",
      "Robbins         10\n",
      "Freeman          8\n",
      "Bartlett         7\n",
      "Name: last, Length: 471, dtype: int64\n",
      "\n",
      "gender\n",
      "\n",
      "F    304886\n",
      "M    250833\n",
      "Name: gender, dtype: int64\n",
      "\n",
      "street\n",
      "\n",
      "444 Robert Mews                  1474\n",
      "6983 Carrillo Isle               1466\n",
      "6114 Adams Harbor Suite 096      1462\n",
      "6296 John Keys Suite 858         1458\n",
      "43235 Mckenzie Views Apt. 837    1428\n",
      "                                 ... \n",
      "6386 Bailey Hill Apt. 421           9\n",
      "537 Brian Island                    9\n",
      "44613 James Turnpike                8\n",
      "610 Pacheco Parkway                 7\n",
      "007 Tonya Isle Suite 299            6\n",
      "Name: street, Length: 924, dtype: int64\n",
      "\n",
      "city\n",
      "\n",
      "Birmingham     2423\n",
      "Meridian       2229\n",
      "Phoenix        2222\n",
      "Utica          2204\n",
      "San Antonio    2182\n",
      "               ... \n",
      "Senatobia        10\n",
      "Seattle           9\n",
      "Guthrie           9\n",
      "Rice              8\n",
      "Wever             6\n",
      "Name: city, Length: 849, dtype: int64\n",
      "\n",
      "state\n",
      "\n",
      "TX    40393\n",
      "NY    35918\n",
      "PA    34326\n",
      "CA    24135\n",
      "OH    20147\n",
      "MI    19671\n",
      "IL    18960\n",
      "FL    18104\n",
      "AL    17532\n",
      "MO    16501\n",
      "MN    13719\n",
      "AR    13484\n",
      "NC    12868\n",
      "SC    12541\n",
      "KY    12506\n",
      "VA    12506\n",
      "WI    12370\n",
      "IN    11959\n",
      "IA    11819\n",
      "OK    11379\n",
      "GA    11277\n",
      "MD    11152\n",
      "WV    10838\n",
      "NJ    10528\n",
      "NE    10257\n",
      "KS     9943\n",
      "LA     8988\n",
      "MS     8833\n",
      "WY     8454\n",
      "WA     8116\n",
      "OR     7811\n",
      "TN     7359\n",
      "NM     7020\n",
      "ME     6928\n",
      "ND     6397\n",
      "CO     5886\n",
      "SD     5250\n",
      "MA     5186\n",
      "MT     5052\n",
      "VT     5044\n",
      "UT     4658\n",
      "AZ     4592\n",
      "NH     3449\n",
      "CT     3277\n",
      "ID     2490\n",
      "NV     2451\n",
      "DC     1517\n",
      "HI     1090\n",
      "AK      843\n",
      "RI      195\n",
      "Name: state, dtype: int64\n",
      "\n",
      "zip\n",
      "\n",
      "82514    1589\n",
      "48088    1518\n",
      "34112    1495\n",
      "16114    1474\n",
      "73754    1470\n",
      "         ... \n",
      "38668      10\n",
      "98118       9\n",
      "73044       9\n",
      "56367       8\n",
      "52658       6\n",
      "Name: zip, Length: 912, dtype: int64\n",
      "\n",
      "lat\n",
      "\n",
      "43.0048    1589\n",
      "42.5164    1518\n",
      "26.1184    1495\n",
      "41.3851    1474\n",
      "36.3850    1470\n",
      "           ... \n",
      "34.6323      10\n",
      "47.5412       9\n",
      "35.8330       9\n",
      "45.7364       8\n",
      "40.7067       6\n",
      "Name: lat, Length: 910, dtype: int64\n",
      "\n",
      "long\n",
      "\n",
      "-108.8964    1589\n",
      "-82.9832     1518\n",
      "-81.7361     1495\n",
      "-80.1752     1474\n",
      "-98.0727     1470\n",
      "             ... \n",
      "-77.4193       10\n",
      "-122.2750       9\n",
      "-97.4360        9\n",
      "-94.1658        8\n",
      "-91.2268        6\n",
      "Name: long, Length: 910, dtype: int64\n",
      "\n",
      "city_pop\n",
      "\n",
      "606        2553\n",
      "1312922    2222\n",
      "1595797    2182\n",
      "241        2045\n",
      "1766       1982\n",
      "           ... \n",
      "14462        10\n",
      "837792        9\n",
      "20226         9\n",
      "6263          8\n",
      "1071          6\n",
      "Name: city_pop, Length: 835, dtype: int64\n",
      "\n",
      "job\n",
      "\n",
      "Film/video editor                4119\n",
      "Exhibition designer              3968\n",
      "Surveyor, land/geomatics         3756\n",
      "Naval architect                  3750\n",
      "Designer, ceramics/pottery       3463\n",
      "                                 ... \n",
      "Estate manager/land agent         195\n",
      "Engineer, civil (consulting)      194\n",
      "Operational investment banker      11\n",
      "Software engineer                  11\n",
      "Engineer, water                     8\n",
      "Name: job, Length: 478, dtype: int64\n",
      "\n",
      "dob\n",
      "\n",
      "1977-03-23    2408\n",
      "1988-09-15    1951\n",
      "1981-08-29    1935\n",
      "1997-09-22    1474\n",
      "1997-07-05    1466\n",
      "              ... \n",
      "1936-12-23       9\n",
      "1969-11-08       9\n",
      "1944-05-30       8\n",
      "1932-05-09       7\n",
      "1998-08-02       6\n",
      "Name: dob, Length: 910, dtype: int64\n",
      "\n",
      "trans_num\n",
      "\n",
      "2da90c7d74bd46a0caf3777415b3ebd3    1\n",
      "7b0f0f113f949d3f9f9e3951f720e507    1\n",
      "19e0a51f95ac46f1c0076b94badde4e2    1\n",
      "ffb01d7da76c227c9b41f090ce1fe558    1\n",
      "176f641c4139e069710ae11c997189a2    1\n",
      "                                   ..\n",
      "b861f33f7adf1d7b849e0a4e527b76d4    1\n",
      "739a283be52dfe3caac0dafbc87df525    1\n",
      "25c80571f38ca752233ab232d592fdc4    1\n",
      "a953633e35ee9d575cf3c77dd41bf9eb    1\n",
      "1765bb45b3aa3224b4cdcb6e7a96cee3    1\n",
      "Name: trans_num, Length: 555719, dtype: int64\n",
      "\n",
      "unix_time\n",
      "\n",
      "1387468942    4\n",
      "1386957227    4\n",
      "1387312599    4\n",
      "1381001869    4\n",
      "1388107357    3\n",
      "             ..\n",
      "1377436557    1\n",
      "1377436537    1\n",
      "1377436522    1\n",
      "1377436512    1\n",
      "1388534374    1\n",
      "Name: unix_time, Length: 544760, dtype: int64\n",
      "\n",
      "merch_lat\n",
      "\n",
      "39.779565    4\n",
      "40.952544    4\n",
      "40.481936    3\n",
      "38.731690    3\n",
      "39.661288    3\n",
      "            ..\n",
      "34.244799    1\n",
      "38.581514    1\n",
      "40.151471    1\n",
      "32.524120    1\n",
      "36.210097    1\n",
      "Name: merch_lat, Length: 546490, dtype: int64\n",
      "\n",
      "merch_long\n",
      "\n",
      "-95.275575    3\n",
      "-82.357941    3\n",
      "-86.365442    3\n",
      "-77.244271    3\n",
      "-87.256118    3\n",
      "             ..\n",
      "-74.160194    1\n",
      "-71.639238    1\n",
      "-91.310355    1\n",
      "-83.915651    1\n",
      "-97.036372    1\n",
      "Name: merch_long, Length: 551770, dtype: int64\n",
      "\n",
      "is_fraud\n",
      "\n",
      "0    553574\n",
      "1      2145\n",
      "Name: is_fraud, dtype: int64\n"
     ]
    }
   ],
   "source": [
    "# Value counts for each column in test dataset\n",
    "for col in credits_test_df.columns[1:]:\n",
    "    print('\\n' + col + '\\n')\n",
    "    print(credits_test_df[col].value_counts())"
   ]
  },
  {
   "cell_type": "code",
   "execution_count": 20,
   "metadata": {
    "scrolled": true
   },
   "outputs": [
    {
     "data": {
      "image/png": "[encoded data removed]",
      "text/plain": [
       "<Figure size 2160x1332 with 12 Axes>"
      ]
     },
     "metadata": {
      "needs_background": "light"
     },
     "output_type": "display_data"
    }
   ],
   "source": [
    "credits_df.hist(bins=30, figsize=(30, 18.5))\n",
    "plt.show()"
   ]
  },
  {
   "cell_type": "markdown",
   "metadata": {},
   "source": [
    "We note that the histograms for most of the variables look quite symmetrical around the mean, and therefore will not require feature transformation to make them more symmetrical.\n",
    "\n"
   ]
  },
  {
   "cell_type": "markdown",
   "metadata": {
    "id": "ckfufNrcUHeH"
   },
   "source": [
    "## 4. External Data Source Validation"
   ]
  },
  {
   "cell_type": "markdown",
   "metadata": {
    "id": "6L4sl_0WXlbg"
   },
   "source": [
    "Making sure the data matched something outside of the dataset was very important. It allowed us to ensure that the measurements were roughly in line with what they should have beeen and it served as a check on what other things might have  been wrong in the dataset."
   ]
  },
  {
   "cell_type": "markdown",
   "metadata": {
    "id": "6XC_g-zKxe-r"
   },
   "source": [
    "### a.Validation"
   ]
  },
  {
   "cell_type": "markdown",
   "metadata": {
    "id": "FlBMxEDBUc9B"
   },
   "source": [
    "## 5. Data Cleaning"
   ]
  },
  {
   "cell_type": "markdown",
   "metadata": {},
   "source": [
    "To use my data for medelling, I will have to employ data cleaning methods to make it ready and suitable.\n",
    "Methods to be employed are :\n",
    "\n",
    "- Consistency\n",
    "- Validity\n",
    "- Completeness\n",
    "- Collinearity"
   ]
  },
  {
   "cell_type": "markdown",
   "metadata": {},
   "source": [
    "## 5.1. Completeness\n",
    "- Check to see if there are any missing/null values, and impute them."
   ]
  },
  {
   "cell_type": "code",
   "execution_count": 22,
   "metadata": {
    "id": "PvCYb6dgW4yh"
   },
   "outputs": [
    {
     "data": {
      "text/plain": [
       "Unnamed: 0               0\n",
       "trans_date_trans_time    0\n",
       "cc_num                   0\n",
       "merchant                 0\n",
       "category                 0\n",
       "amt                      0\n",
       "first                    0\n",
       "last                     0\n",
       "gender                   0\n",
       "street                   0\n",
       "city                     0\n",
       "state                    0\n",
       "zip                      0\n",
       "lat                      0\n",
       "long                     0\n",
       "city_pop                 0\n",
       "job                      0\n",
       "dob                      0\n",
       "trans_num                0\n",
       "unix_time                0\n",
       "merch_lat                0\n",
       "merch_long               0\n",
       "is_fraud                 0\n",
       "dtype: int64"
      ]
     },
     "execution_count": 22,
     "metadata": {},
     "output_type": "execute_result"
    }
   ],
   "source": [
    "# Identifying the Missing Data\n",
    "credits_test_df.isna().sum()"
   ]
  },
  {
   "cell_type": "code",
   "execution_count": 23,
   "metadata": {},
   "outputs": [
    {
     "data": {
      "text/plain": [
       "Unnamed: 0               0\n",
       "trans_date_trans_time    0\n",
       "cc_num                   0\n",
       "merchant                 0\n",
       "category                 0\n",
       "amt                      0\n",
       "first                    0\n",
       "last                     0\n",
       "gender                   0\n",
       "street                   0\n",
       "city                     0\n",
       "state                    0\n",
       "zip                      0\n",
       "lat                      0\n",
       "long                     0\n",
       "city_pop                 0\n",
       "job                      0\n",
       "dob                      0\n",
       "trans_num                0\n",
       "unix_time                0\n",
       "merch_lat                0\n",
       "merch_long               0\n",
       "is_fraud                 0\n",
       "dtype: int64"
      ]
     },
     "execution_count": 23,
     "metadata": {},
     "output_type": "execute_result"
    }
   ],
   "source": [
    "# Identifying the Missing Data\n",
    "credits_df.isna().sum()"
   ]
  },
  {
   "cell_type": "markdown",
   "metadata": {},
   "source": [
    "There are no missing values in both the train and test data sets."
   ]
  },
  {
   "cell_type": "markdown",
   "metadata": {},
   "source": [
    "## 5.2. Consistency\n",
    "- Checking to see there are any duplicates both in rows and in columns."
   ]
  },
  {
   "cell_type": "code",
   "execution_count": 24,
   "metadata": {},
   "outputs": [
    {
     "data": {
      "text/plain": [
       "0"
      ]
     },
     "execution_count": 24,
     "metadata": {},
     "output_type": "execute_result"
    }
   ],
   "source": [
    "#Checking for duplicates in the train dataset\n",
    "credits_df.duplicated().sum()"
   ]
  },
  {
   "cell_type": "code",
   "execution_count": 25,
   "metadata": {},
   "outputs": [
    {
     "data": {
      "text/plain": [
       "0"
      ]
     },
     "execution_count": 25,
     "metadata": {},
     "output_type": "execute_result"
    }
   ],
   "source": [
    "# Checking for duplicates\n",
    "credits_test_df.duplicated().sum()"
   ]
  },
  {
   "cell_type": "markdown",
   "metadata": {},
   "source": [
    "There were no duplicates nor missing values in both the train and test datasets."
   ]
  },
  {
   "cell_type": "markdown",
   "metadata": {},
   "source": [
    "## 5.3. Validity\n",
    "- Check to see if all the columns in the dataset are valid/useful for this analysis\n",
    "- Dropping any that isn't useful."
   ]
  },
  {
   "cell_type": "code",
   "execution_count": 26,
   "metadata": {
    "id": "5o_bQcT5W3Wz"
   },
   "outputs": [],
   "source": [
    "# Dropping the unnamed column\n",
    "credits_df.drop(credits_df.columns[0], axis=1, inplace=True)\n",
    "credits_test_df.drop(credits_test_df.columns[0], axis=1, inplace=True)"
   ]
  },
  {
   "cell_type": "code",
   "execution_count": 27,
   "metadata": {
    "id": "PWlukLKUvFQN"
   },
   "outputs": [],
   "source": [
    "# Converting date columns to datetime format\n",
    "\n",
    "credits_df['trans_date_trans_time']=pd.to_datetime(credits_df['trans_date_trans_time'])\n",
    "credits_df['trans_date']=credits_df['trans_date_trans_time'].dt.strftime('%Y-%m-%d')\n",
    "credits_df['trans_date']=pd.to_datetime(credits_df['trans_date'])\n",
    "credits_df['dob']=pd.to_datetime(credits_df['dob'])\n",
    "\n",
    "credits_test_df['trans_date_trans_time']=pd.to_datetime(credits_test_df['trans_date_trans_time'])\n",
    "credits_test_df['trans_date']=credits_test_df['trans_date_trans_time'].dt.strftime('%Y-%m-%d')\n",
    "credits_test_df['trans_date']=pd.to_datetime(credits_test_df['trans_date'])\n",
    "credits_test_df['dob']=pd.to_datetime(credits_test_df['dob'])"
   ]
  },
  {
   "cell_type": "code",
   "execution_count": 28,
   "metadata": {
    "scrolled": true
   },
   "outputs": [],
   "source": [
    "# Separate date and time components into separate columns\n",
    "credits_df['trans_time'] = credits_df['trans_date_trans_time'].dt.time\n",
    "credits_test_df['trans_time'] = credits_test_df['trans_date_trans_time'].dt.time\n",
    "credits_df['hour'] = credits_df['trans_date_trans_time'].dt.hour\n",
    "credits_test_df['hour'] = credits_test_df['trans_date_trans_time'].dt.hour"
   ]
  },
  {
   "cell_type": "code",
   "execution_count": 29,
   "metadata": {},
   "outputs": [],
   "source": [
    "#dropping the trans_date_trans_time column\n",
    "credits_df = credits_df.drop(columns='trans_date_trans_time')\n",
    "credits_test_df = credits_test_df.drop(columns='trans_date_trans_time')"
   ]
  },
  {
   "cell_type": "markdown",
   "metadata": {
    "id": "rF2ABPsHUtbZ"
   },
   "source": [
    "## 6. Exploratory Analysis  \n",
    "In trying to understand the data better, checking the distribution of the individual features in the dataset was done.\n",
    "The following few questions were answered:\n",
    "\n",
    "- What is the distribution of Fraud transactions?\n",
    "- What are statistical measures in the amount column for both fraud and legit transactions?\n",
    "- What is the total percentage of fraud transactions?  \n",
    "- What are the general trends of amounts for Credit Card Fraud Transactions?\n",
    "- What is the relationship between  transaction and the other attributes?\n",
    "- Find out what attributes have the highest correlation with Fraud Transactions."
   ]
  },
  {
   "cell_type": "code",
   "execution_count": 30,
   "metadata": {},
   "outputs": [],
   "source": [
    "credit_df = credits_df.copy()"
   ]
  },
  {
   "cell_type": "markdown",
   "metadata": {},
   "source": [
    "### 6.1 Distribution of Transactions"
   ]
  },
  {
   "cell_type": "code",
   "execution_count": 34,
   "metadata": {},
   "outputs": [
    {
     "data": {
      "image/png": "[encoded data removed]",
      "text/plain": [
       "<Figure size 720x360 with 1 Axes>"
      ]
     },
     "metadata": {
      "needs_background": "light"
     },
     "output_type": "display_data"
    }
   ],
   "source": [
    "#checking the distribution of the churn (target) variable using a box plot\n",
    "fig,ax = plt.subplots(figsize = (10, 5))\n",
    "sns.countplot(data = credit_df, x = 'is_fraud')\n",
    "ax.set_title('Distribution of Fraud')\n",
    "ax.set_xlabel('Fraud Status') \n",
    "ax.set_ylabel('Distribution');"
   ]
  },
  {
   "cell_type": "code",
   "execution_count": 31,
   "metadata": {},
   "outputs": [
    {
     "data": {
      "text/plain": [
       "<AxesSubplot:xlabel='is_fraud', ylabel='count'>"
      ]
     },
     "execution_count": 31,
     "metadata": {},
     "output_type": "execute_result"
    },
    {
     "data": {
      "image/png": "[encoded data removed]",
      "text/plain": [
       "<Figure size 432x288 with 1 Axes>"
      ]
     },
     "metadata": {
      "needs_background": "light"
     },
     "output_type": "display_data"
    }
   ],
   "source": [
    "#checking the distribution of the churn (target) variable using a box plot\n",
    "sns.countplot(x = \"is_fraud\",data =credit_df)"
   ]
  },
  {
   "cell_type": "markdown",
   "metadata": {},
   "source": [
    "This Dataset is highly imbalanced as evident from the countplot with majority class label '0' and minority class label '1'  \n",
    "- 0: Legitimate Transactions\n",
    "- 1: Fraud Transactions"
   ]
  },
  {
   "cell_type": "code",
   "execution_count": 35,
   "metadata": {},
   "outputs": [
    {
     "name": "stdout",
     "output_type": "stream",
     "text": [
      "The percentage of fraudulent transactions is : 0.58 percent\n"
     ]
    }
   ],
   "source": [
    "percentage_Fraud = 100 * credit_df[credit_df.is_fraud == 1].shape[0]/credit_df[credit_df.is_fraud == 0].shape[0]\n",
    "print('The percentage of fraudulent transactions is : %.2f percent' % percentage_Fraud )"
   ]
  },
  {
   "cell_type": "markdown",
   "metadata": {},
   "source": [
    "### 6.2 The statistical measures in the amount column for both fraud and legit transactions."
   ]
  },
  {
   "cell_type": "code",
   "execution_count": 36,
   "metadata": {},
   "outputs": [],
   "source": [
    "#separating the data for analysis\n",
    "legit = credit_df[credit_df.is_fraud == 0]\n",
    "fraud = credit_df[credit_df.is_fraud == 1]"
   ]
  },
  {
   "cell_type": "code",
   "execution_count": 37,
   "metadata": {},
   "outputs": [
    {
     "name": "stdout",
     "output_type": "stream",
     "text": [
      "(1289169, 24)\n",
      "(7506, 24)\n"
     ]
    }
   ],
   "source": [
    "print(legit.shape)\n",
    "print(fraud.shape)"
   ]
  },
  {
   "cell_type": "code",
   "execution_count": 38,
   "metadata": {},
   "outputs": [
    {
     "data": {
      "text/plain": [
       "count    1.289169e+06\n",
       "mean     6.766711e+01\n",
       "std      1.540080e+02\n",
       "min      1.000000e+00\n",
       "25%      9.610000e+00\n",
       "50%      4.728000e+01\n",
       "75%      8.254000e+01\n",
       "max      2.894890e+04\n",
       "Name: amt, dtype: float64"
      ]
     },
     "execution_count": 38,
     "metadata": {},
     "output_type": "execute_result"
    }
   ],
   "source": [
    "legit.amt.describe()"
   ]
  },
  {
   "cell_type": "code",
   "execution_count": 40,
   "metadata": {},
   "outputs": [
    {
     "data": {
      "text/plain": [
       "count    7506.000000\n",
       "mean      531.320092\n",
       "std       390.560070\n",
       "min         1.060000\n",
       "25%       245.662500\n",
       "50%       396.505000\n",
       "75%       900.875000\n",
       "max      1376.040000\n",
       "Name: amt, dtype: float64"
      ]
     },
     "execution_count": 40,
     "metadata": {},
     "output_type": "execute_result"
    }
   ],
   "source": [
    "fraud.amt.describe()"
   ]
  },
  {
   "cell_type": "markdown",
   "metadata": {},
   "source": [
    "It was observed that the average amount for fraudulent transactions is 531, which is higher compared to legitimate transactions. The mean transaction amount for fraudulent activities was found to be significantly larger than that of legitimate activities."
   ]
  },
  {
   "cell_type": "markdown",
   "metadata": {},
   "source": [
    "#### 6.2.1 Comparison values of all attributes  for both legit and fraudulent transactions"
   ]
  },
  {
   "cell_type": "code",
   "execution_count": 41,
   "metadata": {},
   "outputs": [
    {
     "data": {
      "text/html": [
       "<div>\n",
       "<style scoped>\n",
       "    .dataframe tbody tr th:only-of-type {\n",
       "        vertical-align: middle;\n",
       "    }\n",
       "\n",
       "    .dataframe tbody tr th {\n",
       "        vertical-align: top;\n",
       "    }\n",
       "\n",
       "    .dataframe thead th {\n",
       "        text-align: right;\n",
       "    }\n",
       "</style>\n",
       "<table border=\"1\" class=\"dataframe\">\n",
       "  <thead>\n",
       "    <tr style=\"text-align: right;\">\n",
       "      <th></th>\n",
       "      <th>cc_num</th>\n",
       "      <th>amt</th>\n",
       "      <th>zip</th>\n",
       "      <th>lat</th>\n",
       "      <th>long</th>\n",
       "      <th>city_pop</th>\n",
       "      <th>unix_time</th>\n",
       "      <th>merch_lat</th>\n",
       "      <th>merch_long</th>\n",
       "      <th>hour</th>\n",
       "    </tr>\n",
       "    <tr>\n",
       "      <th>is_fraud</th>\n",
       "      <th></th>\n",
       "      <th></th>\n",
       "      <th></th>\n",
       "      <th></th>\n",
       "      <th></th>\n",
       "      <th></th>\n",
       "      <th></th>\n",
       "      <th></th>\n",
       "      <th></th>\n",
       "      <th></th>\n",
       "    </tr>\n",
       "  </thead>\n",
       "  <tbody>\n",
       "    <tr>\n",
       "      <th>0</th>\n",
       "      <td>4.172901e+17</td>\n",
       "      <td>67.667110</td>\n",
       "      <td>48805.107481</td>\n",
       "      <td>38.536888</td>\n",
       "      <td>-90.228142</td>\n",
       "      <td>88775.228137</td>\n",
       "      <td>1.349249e+09</td>\n",
       "      <td>38.536659</td>\n",
       "      <td>-90.228274</td>\n",
       "      <td>12.797679</td>\n",
       "    </tr>\n",
       "    <tr>\n",
       "      <th>1</th>\n",
       "      <td>4.003577e+17</td>\n",
       "      <td>531.320092</td>\n",
       "      <td>48038.714229</td>\n",
       "      <td>38.663609</td>\n",
       "      <td>-89.916041</td>\n",
       "      <td>97276.763256</td>\n",
       "      <td>1.348389e+09</td>\n",
       "      <td>38.653901</td>\n",
       "      <td>-89.915808</td>\n",
       "      <td>14.037836</td>\n",
       "    </tr>\n",
       "  </tbody>\n",
       "</table>\n",
       "</div>"
      ],
      "text/plain": [
       "                cc_num         amt           zip        lat       long  \\\n",
       "is_fraud                                                                 \n",
       "0         4.172901e+17   67.667110  48805.107481  38.536888 -90.228142   \n",
       "1         4.003577e+17  531.320092  48038.714229  38.663609 -89.916041   \n",
       "\n",
       "              city_pop     unix_time  merch_lat  merch_long       hour  \n",
       "is_fraud                                                                \n",
       "0         88775.228137  1.349249e+09  38.536659  -90.228274  12.797679  \n",
       "1         97276.763256  1.348389e+09  38.653901  -89.915808  14.037836  "
      ]
     },
     "execution_count": 41,
     "metadata": {},
     "output_type": "execute_result"
    }
   ],
   "source": [
    "credit_df.groupby('is_fraud').mean()"
   ]
  },
  {
   "cell_type": "markdown",
   "metadata": {},
   "source": [
    "### 6.3 Total percentage of both fraudulent and legit transactions"
   ]
  },
  {
   "cell_type": "code",
   "execution_count": 42,
   "metadata": {},
   "outputs": [
    {
     "data": {
      "image/png": "[encoded data removed]",
      "text/plain": [
       "<Figure size 720x1080 with 1 Axes>"
      ]
     },
     "metadata": {
      "needs_background": "light"
     },
     "output_type": "display_data"
    }
   ],
   "source": [
    "classes_train=credit_df['is_fraud'].value_counts()\n",
    "normal_share_train=classes_train[0]/credit_df['is_fraud'].count()*100\n",
    "fraud_share_train=classes_train[1]/credit_df['is_fraud'].count()*100\n",
    "\n",
    "fig = plt.figure(figsize =(10, 15))\n",
    "plt.subplot(2,1,1)\n",
    "plt.bar(['legit','Fraud'], classes_train, color=['green','blue'])\n",
    "plt.title('Train')\n",
    "plt.ylabel('Number of Transactions')\n",
    "plt.annotate(\"{0:.4}%\".format(normal_share_train),(0.2, 0.5), xycoords='axes fraction')\n",
    "plt.annotate(\"{0:.4}%\".format(fraud_share_train),(0.7, 0.5), xycoords='axes fraction')\n",
    "plt.show()"
   ]
  },
  {
   "cell_type": "markdown",
   "metadata": {},
   "source": [
    "The percentage for the normal/legit transactions is higher that the fraudulent transactions.\n",
    "If we use this dataframe as the base for our predictive models and analysis we might get a lot of errors and our algorithms will probably overfit since it will \"assume\" that most transactions are not fraud. But we don't want our model to assume, we want our model to detect patterns that give signs of fraud!"
   ]
  },
  {
   "cell_type": "markdown",
   "metadata": {},
   "source": [
    "### 10.4. Which  gender transacts most using credit card"
   ]
  },
  {
   "cell_type": "code",
   "execution_count": 51,
   "metadata": {
    "scrolled": false
   },
   "outputs": [
    {
     "data": {
      "image/png": "[encoded data removed]",
      "text/plain": [
       "<Figure size 720x576 with 1 Axes>"
      ]
     },
     "metadata": {},
     "output_type": "display_data"
    }
   ],
   "source": [
    "# Count the number of male and female gender\n",
    "gender_count = credit_df['gender'].value_counts()\n",
    "\n",
    "# Create a bar chart showing the number of male and female gender\n",
    "fig = plt.figure(figsize =(10, 8))\n",
    "plt.bar(gender_count.index, gender_count.values, color = ['pink','b'])\n",
    "plt.title('Number of Male and Female Gender')\n",
    "plt.xlabel('Gender')\n",
    "plt.ylabel('Gender Count')\n",
    "plt.show()\n"
   ]
  },
  {
   "cell_type": "markdown",
   "metadata": {},
   "source": [
    "### 6.5 Gender Vs Fraud  \n",
    "Which gender is more susceptible to fraud than the other."
   ]
  },
  {
   "cell_type": "code",
   "execution_count": 55,
   "metadata": {},
   "outputs": [
    {
     "data": {
      "image/png": "[encoded data removed]",
      "text/plain": [
       "<Figure size 720x576 with 1 Axes>"
      ]
     },
     "metadata": {},
     "output_type": "display_data"
    }
   ],
   "source": [
    "# Create a color palette\n",
    "colors = ['green', 'blue']\n",
    "\n",
    "# 'credit_df' is your DataFrame\n",
    "ax = sns.histplot(x='gender', data=credit_df, hue='is_fraud', stat='percent', multiple='dodge', common_norm=False, palette=colors)\n",
    "\n",
    "ax.set_ylabel('Percentage')\n",
    "ax.set_xlabel('Credit Card Holder Gender')\n",
    "plt.legend(title='Type', labels=['Fraud', 'Legit'])\n",
    "plt.rcParams['figure.figsize'] = (10, 8)  # Set the figure size\n",
    "\n",
    "# Show the plot\n",
    "plt.show()"
   ]
  },
  {
   "cell_type": "markdown",
   "metadata": {},
   "source": [
    "In this case, there is no clear difference between both genders. Data seem to suggest that females and males are almost equally susceptible (50%) to transaction fraud. Gender is not very indicative of a fraudulent transaction."
   ]
  },
  {
   "cell_type": "code",
   "execution_count": 56,
   "metadata": {},
   "outputs": [],
   "source": [
    "fraud_df = credit_df[credit_df['is_fraud'] == 1]"
   ]
  },
  {
   "cell_type": "code",
   "execution_count": 57,
   "metadata": {},
   "outputs": [
    {
     "data": {
      "text/plain": [
       "M    3771\n",
       "F    3735\n",
       "Name: gender, dtype: int64"
      ]
     },
     "execution_count": 57,
     "metadata": {},
     "output_type": "execute_result"
    }
   ],
   "source": [
    "fraud_df['gender'].value_counts()"
   ]
  },
  {
   "cell_type": "code",
   "execution_count": 59,
   "metadata": {
    "scrolled": false
   },
   "outputs": [
    {
     "data": {
      "image/png": "[encoded data removed]",
      "text/plain": [
       "<Figure size 720x504 with 1 Axes>"
      ]
     },
     "metadata": {},
     "output_type": "display_data"
    }
   ],
   "source": [
    "classes_train=fraud_df['gender'].value_counts()\n",
    "female_share_train=classes_train[0]/fraud_df['gender'].count()*100\n",
    "male_share_train=classes_train[1]/fraud_df['gender'].count()*100\n",
    "\n",
    "# Creating plot\n",
    "colors = ['pink', 'b']\n",
    "labels = ['Female', 'Male']\n",
    "fig = plt.figure(figsize =(10, 7))\n",
    "plt.pie(credit_df['gender'].value_counts(), labels=labels, colors=colors)\n",
    "plt.annotate(\"{0:.4}%\".format(female_share_train),(0.5, 0.6), xycoords='axes fraction')\n",
    "plt.annotate(\"{0:.4}%\".format(male_share_train),(0.5, 0.4), xycoords='axes fraction')\n",
    "plt.title('Pie chart of Number of Gender with Flagged Transactions')\n",
    " \n",
    "# show plot\n",
    "plt.show()"
   ]
  },
  {
   "cell_type": "markdown",
   "metadata": {},
   "source": [
    "### 6.6. Job title and frequency of transactions"
   ]
  },
  {
   "cell_type": "code",
   "execution_count": 60,
   "metadata": {},
   "outputs": [
    {
     "data": {
      "text/html": [
       "<div>\n",
       "<style scoped>\n",
       "    .dataframe tbody tr th:only-of-type {\n",
       "        vertical-align: middle;\n",
       "    }\n",
       "\n",
       "    .dataframe tbody tr th {\n",
       "        vertical-align: top;\n",
       "    }\n",
       "\n",
       "    .dataframe thead th {\n",
       "        text-align: right;\n",
       "    }\n",
       "</style>\n",
       "<table border=\"1\" class=\"dataframe\">\n",
       "  <thead>\n",
       "    <tr style=\"text-align: right;\">\n",
       "      <th></th>\n",
       "      <th>job</th>\n",
       "    </tr>\n",
       "  </thead>\n",
       "  <tbody>\n",
       "    <tr>\n",
       "      <th>Film/video editor</th>\n",
       "      <td>9779</td>\n",
       "    </tr>\n",
       "    <tr>\n",
       "      <th>Exhibition designer</th>\n",
       "      <td>9199</td>\n",
       "    </tr>\n",
       "    <tr>\n",
       "      <th>Naval architect</th>\n",
       "      <td>8684</td>\n",
       "    </tr>\n",
       "    <tr>\n",
       "      <th>Surveyor, land/geomatics</th>\n",
       "      <td>8680</td>\n",
       "    </tr>\n",
       "    <tr>\n",
       "      <th>Materials engineer</th>\n",
       "      <td>8270</td>\n",
       "    </tr>\n",
       "    <tr>\n",
       "      <th>...</th>\n",
       "      <td>...</td>\n",
       "    </tr>\n",
       "    <tr>\n",
       "      <th>Information officer</th>\n",
       "      <td>8</td>\n",
       "    </tr>\n",
       "    <tr>\n",
       "      <th>Veterinary surgeon</th>\n",
       "      <td>8</td>\n",
       "    </tr>\n",
       "    <tr>\n",
       "      <th>Ship broker</th>\n",
       "      <td>7</td>\n",
       "    </tr>\n",
       "    <tr>\n",
       "      <th>Contracting civil engineer</th>\n",
       "      <td>7</td>\n",
       "    </tr>\n",
       "    <tr>\n",
       "      <th>Warehouse manager</th>\n",
       "      <td>7</td>\n",
       "    </tr>\n",
       "  </tbody>\n",
       "</table>\n",
       "<p>494 rows × 1 columns</p>\n",
       "</div>"
      ],
      "text/plain": [
       "                             job\n",
       "Film/video editor           9779\n",
       "Exhibition designer         9199\n",
       "Naval architect             8684\n",
       "Surveyor, land/geomatics    8680\n",
       "Materials engineer          8270\n",
       "...                          ...\n",
       "Information officer            8\n",
       "Veterinary surgeon             8\n",
       "Ship broker                    7\n",
       "Contracting civil engineer     7\n",
       "Warehouse manager              7\n",
       "\n",
       "[494 rows x 1 columns]"
      ]
     },
     "execution_count": 60,
     "metadata": {},
     "output_type": "execute_result"
    }
   ],
   "source": [
    "# Count of the jobs\n",
    "credit_df['job'].value_counts().to_frame()"
   ]
  },
  {
   "cell_type": "code",
   "execution_count": 61,
   "metadata": {
    "scrolled": false
   },
   "outputs": [
    {
     "data": {
      "image/png": "[encoded data removed]",
      "text/plain": [
       "<Figure size 720x576 with 1 Axes>"
      ]
     },
     "metadata": {},
     "output_type": "display_data"
    }
   ],
   "source": [
    "#Visualizing the job and transactions\n",
    "# Get the top 5 jobs by transaction count\n",
    "top_jobs = credit_df['job'].value_counts().nlargest(5)\n",
    "\n",
    "# Create a bar chart of the top 10 jobs\n",
    "plt.figure(figsize=(10, 8))\n",
    "plt.bar(top_jobs.index, top_jobs.values, color= \"b\")\n",
    "plt.title('Top 5 Jobs by Transaction Count')\n",
    "plt.xlabel('Job')\n",
    "plt.ylabel('Transaction Count')\n",
    "plt.xticks(rotation=90)\n",
    "plt.show()\n"
   ]
  },
  {
   "cell_type": "markdown",
   "metadata": {},
   "source": [
    "Film/Video editors do the most transactions using credit card"
   ]
  },
  {
   "cell_type": "markdown",
   "metadata": {},
   "source": [
    "### 10.7.Job title vs transaction amount"
   ]
  },
  {
   "cell_type": "code",
   "execution_count": 62,
   "metadata": {
    "scrolled": true
   },
   "outputs": [],
   "source": [
    "# Grouping with the jobs column\n",
    "job_df = credit_df.groupby(['job']).mean()\n",
    "job_df = job_df.sort_values(by='amt', ascending=False)"
   ]
  },
  {
   "cell_type": "code",
   "execution_count": 63,
   "metadata": {},
   "outputs": [
    {
     "data": {
      "image/png": "[encoded data removed]",
      "text/plain": [
       "<Figure size 720x576 with 1 Axes>"
      ]
     },
     "metadata": {},
     "output_type": "display_data"
    }
   ],
   "source": [
    "job_df['amt'][:10].plot(kind='bar', title='Top 10 jobs with the Highest Average Transactions Amount', \\\n",
    "                                xlabel='Job', color = 'b', ylabel='Avg Trans Amount');"
   ]
  },
  {
   "cell_type": "markdown",
   "metadata": {},
   "source": [
    "When it comes to transaction amount,ship broker is the leading in the transacted amount using credit card."
   ]
  },
  {
   "cell_type": "markdown",
   "metadata": {},
   "source": [
    "### 10.8.Card holders vs street."
   ]
  },
  {
   "cell_type": "code",
   "execution_count": 64,
   "metadata": {
    "scrolled": true
   },
   "outputs": [
    {
     "data": {
      "text/html": [
       "<div>\n",
       "<style scoped>\n",
       "    .dataframe tbody tr th:only-of-type {\n",
       "        vertical-align: middle;\n",
       "    }\n",
       "\n",
       "    .dataframe tbody tr th {\n",
       "        vertical-align: top;\n",
       "    }\n",
       "\n",
       "    .dataframe thead th {\n",
       "        text-align: right;\n",
       "    }\n",
       "</style>\n",
       "<table border=\"1\" class=\"dataframe\">\n",
       "  <thead>\n",
       "    <tr style=\"text-align: right;\">\n",
       "      <th></th>\n",
       "      <th>street</th>\n",
       "    </tr>\n",
       "  </thead>\n",
       "  <tbody>\n",
       "    <tr>\n",
       "      <th>0069 Robin Brooks Apt. 695</th>\n",
       "      <td>3123</td>\n",
       "    </tr>\n",
       "    <tr>\n",
       "      <th>864 Reynolds Plains</th>\n",
       "      <td>3123</td>\n",
       "    </tr>\n",
       "    <tr>\n",
       "      <th>8172 Robertson Parkways Suite 072</th>\n",
       "      <td>3119</td>\n",
       "    </tr>\n",
       "    <tr>\n",
       "      <th>4664 Sanchez Common Suite 930</th>\n",
       "      <td>3117</td>\n",
       "    </tr>\n",
       "    <tr>\n",
       "      <th>8030 Beck Motorway</th>\n",
       "      <td>3113</td>\n",
       "    </tr>\n",
       "    <tr>\n",
       "      <th>29606 Martinez Views Suite 653</th>\n",
       "      <td>3112</td>\n",
       "    </tr>\n",
       "    <tr>\n",
       "      <th>1652 James Mews</th>\n",
       "      <td>3110</td>\n",
       "    </tr>\n",
       "    <tr>\n",
       "      <th>854 Walker Dale Suite 488</th>\n",
       "      <td>3107</td>\n",
       "    </tr>\n",
       "    <tr>\n",
       "      <th>40624 Rebecca Spurs</th>\n",
       "      <td>3106</td>\n",
       "    </tr>\n",
       "    <tr>\n",
       "      <th>594 Berry Lights Apt. 392</th>\n",
       "      <td>3101</td>\n",
       "    </tr>\n",
       "  </tbody>\n",
       "</table>\n",
       "</div>"
      ],
      "text/plain": [
       "                                   street\n",
       "0069 Robin Brooks Apt. 695           3123\n",
       "864 Reynolds Plains                  3123\n",
       "8172 Robertson Parkways Suite 072    3119\n",
       "4664 Sanchez Common Suite 930        3117\n",
       "8030 Beck Motorway                   3113\n",
       "29606 Martinez Views Suite 653       3112\n",
       "1652 James Mews                      3110\n",
       "854 Walker Dale Suite 488            3107\n",
       "40624 Rebecca Spurs                  3106\n",
       "594 Berry Lights Apt. 392            3101"
      ]
     },
     "execution_count": 64,
     "metadata": {},
     "output_type": "execute_result"
    }
   ],
   "source": [
    "# Number of card holders per street\n",
    "credit_df['street'].value_counts()[:10].to_frame()"
   ]
  },
  {
   "cell_type": "markdown",
   "metadata": {},
   "source": [
    "### 6.9.Transaction amount vs Fraud"
   ]
  },
  {
   "cell_type": "code",
   "execution_count": 65,
   "metadata": {},
   "outputs": [
    {
     "data": {
      "image/png": "[encoded data removed]",
      "text/plain": [
       "<Figure size 720x576 with 1 Axes>"
      ]
     },
     "metadata": {},
     "output_type": "display_data"
    }
   ],
   "source": [
    "#amount vs fraud\n",
    "f, ax = plt.subplots(figsize=(10,8))\n",
    "colors = ['green', 'blue'] \n",
    "ax=sns.histplot(x='amt',data=credit_df[credit_df.amt<=1000],hue='is_fraud',\n",
    "                stat='percent',multiple='dodge',common_norm=False, palette=colors, bins=25)\n",
    "ax.set_ylabel('Percentage in Each Type')\n",
    "ax.set_xlabel('Transaction Amount in USD')\n",
    "plt.legend(title='Type', labels=['Fraud', 'legit']);"
   ]
  },
  {
   "cell_type": "markdown",
   "metadata": {},
   "source": [
    "Normal transactions tend to be around $300 and below.Fraudulent transactions peak around $300 and then at the $800-$1000 range. There is a very clear pattern."
   ]
  },
  {
   "cell_type": "markdown",
   "metadata": {},
   "source": [
    "### 6.10. State Vs Fraud"
   ]
  },
  {
   "cell_type": "code",
   "execution_count": 66,
   "metadata": {
    "scrolled": false
   },
   "outputs": [
    {
     "data": {
      "image/png": "[encoded data removed]",
      "text/plain": [
       "<Figure size 720x360 with 1 Axes>"
      ]
     },
     "metadata": {},
     "output_type": "display_data"
    }
   ],
   "source": [
    "# Create a stacked bar chart to visualize the distribution of fraudulent and non-fraudulent transactions in each state\n",
    "f, ax = plt.subplots(figsize=(10,5))\n",
    "#colors = ['green', 'blue']  # blue and green\n",
    "sns.countplot(x='state', data=fraud, \\\n",
    "              ax=ax, order=fraud['state'].value_counts().iloc[:5].index, color='blue')\n",
    "plt.xticks(rotation=90, fontsize=12)\n",
    "plt.yticks(fontsize=12)\n",
    "plt.xlabel('State')\n",
    "plt.ylabel('Number of Frauds')\n",
    "plt.title('Top 5 States with the most Fraud')\n",
    "plt.show();\n"
   ]
  },
  {
   "cell_type": "markdown",
   "metadata": {},
   "source": [
    "New York(NY), Texas(TX) and Pennsylvania(PA) among others have a higher percentage of fraudulent transactions than normal ones."
   ]
  },
  {
   "cell_type": "markdown",
   "metadata": {},
   "source": [
    "### 10.11. Street vs Fraud"
   ]
  },
  {
   "cell_type": "code",
   "execution_count": 74,
   "metadata": {},
   "outputs": [
    {
     "data": {
      "image/png": "[encoded data removed]",
      "text/plain": [
       "<Figure size 720x360 with 1 Axes>"
      ]
     },
     "metadata": {},
     "output_type": "display_data"
    }
   ],
   "source": [
    "# Create a stacked bar chart to visualize the distribution of fraudulent and non-fraudulent transactions in each street\n",
    "f, ax = plt.subplots(figsize=(10,5))\n",
    "#colors = ['green', 'blue']  # blue and green\n",
    "sns.countplot(x='street', data=fraud, \\\n",
    "              ax=ax, order=fraud['street'].value_counts().iloc[:5].index, color='blue')\n",
    "plt.xticks(rotation=90, fontsize=12)\n",
    "plt.yticks(fontsize=12)\n",
    "plt.xlabel('STREETS')\n",
    "plt.ylabel('Number of Frauds')\n",
    "plt.title('Top 5 Streets with the most Fraud')\n",
    "plt.show();"
   ]
  },
  {
   "cell_type": "markdown",
   "metadata": {},
   "source": [
    "Annette Islands,Vaughn Park Suites and Courtney Islands among others have a higher percentage of fraudulent transactions than normal ones.However, it should be pointed out that the percentage differences in those streets are not very significant but a correlation does exist."
   ]
  },
  {
   "cell_type": "code",
   "execution_count": 75,
   "metadata": {},
   "outputs": [
    {
     "data": {
      "text/plain": [
       "Index(['cc_num', 'merchant', 'category', 'amt', 'first', 'last', 'gender',\n",
       "       'street', 'city', 'state', 'zip', 'lat', 'long', 'city_pop', 'job',\n",
       "       'dob', 'trans_num', 'unix_time', 'merch_lat', 'merch_long', 'is_fraud',\n",
       "       'trans_date', 'trans_time', 'hour'],\n",
       "      dtype='object')"
      ]
     },
     "execution_count": 75,
     "metadata": {},
     "output_type": "execute_result"
    }
   ],
   "source": [
    "credit_df.columns"
   ]
  },
  {
   "cell_type": "markdown",
   "metadata": {},
   "source": [
    "### 6.12. Ages Vs Fraud\n",
    "Which age group are more prone to credit card fraud?  Given the birthday info, we can calculate the age of each card owner (in 2023) and see whether a trend exists."
   ]
  },
  {
   "cell_type": "code",
   "execution_count": 77,
   "metadata": {},
   "outputs": [
    {
     "data": {
      "text/plain": [
       "<matplotlib.legend.Legend at 0x1ef16ee4700>"
      ]
     },
     "execution_count": 77,
     "metadata": {},
     "output_type": "execute_result"
    },
    {
     "data": {
      "image/png": "[encoded data removed]",
      "text/plain": [
       "<Figure size 720x576 with 1 Axes>"
      ]
     },
     "metadata": {},
     "output_type": "display_data"
    }
   ],
   "source": [
    "import datetime as dt\n",
    "credit_df['age'] = dt.date.today().year - pd.to_datetime(credit_df['dob']).dt.year\n",
    "\n",
    "colors = ['green', 'b'] # specify colors for fraud and legit transactions\n",
    "ax = sns.kdeplot(x='age', data=credit_df, hue='is_fraud', common_norm=False, palette=colors)\n",
    "\n",
    "ax.set_xlabel('Credit Card Holder Age')\n",
    "ax.set_ylabel('Density')\n",
    "plt.xticks(np.arange(0, 110, 5))\n",
    "plt.title('Age Distribution in Fraudulent vs Normal Transactions')\n",
    "plt.legend(title='Type', labels=['Fraud', 'Legit'])"
   ]
  },
  {
   "cell_type": "markdown",
   "metadata": {},
   "source": [
    "The age distribution actually very different between the normal and fraudulent transaction. In normal transactions, there are 2 peaks at the age of 35-40 and 50, while in fraudulent transactions, the age distribution is a little smoother and the second peak does include a wider age group from 50-60."
   ]
  },
  {
   "cell_type": "markdown",
   "metadata": {},
   "source": [
    "### 10.13. Spending Category vs Fraud"
   ]
  },
  {
   "cell_type": "code",
   "execution_count": 78,
   "metadata": {
    "id": "5nnRToniXGDK"
   },
   "outputs": [
    {
     "data": {
      "text/html": [
       "<div>\n",
       "<style scoped>\n",
       "    .dataframe tbody tr th:only-of-type {\n",
       "        vertical-align: middle;\n",
       "    }\n",
       "\n",
       "    .dataframe tbody tr th {\n",
       "        vertical-align: top;\n",
       "    }\n",
       "\n",
       "    .dataframe thead th {\n",
       "        text-align: right;\n",
       "    }\n",
       "</style>\n",
       "<table border=\"1\" class=\"dataframe\">\n",
       "  <thead>\n",
       "    <tr style=\"text-align: right;\">\n",
       "      <th></th>\n",
       "      <th>category</th>\n",
       "    </tr>\n",
       "  </thead>\n",
       "  <tbody>\n",
       "    <tr>\n",
       "      <th>gas_transport</th>\n",
       "      <td>131659</td>\n",
       "    </tr>\n",
       "    <tr>\n",
       "      <th>grocery_pos</th>\n",
       "      <td>123638</td>\n",
       "    </tr>\n",
       "    <tr>\n",
       "      <th>home</th>\n",
       "      <td>123115</td>\n",
       "    </tr>\n",
       "    <tr>\n",
       "      <th>shopping_pos</th>\n",
       "      <td>116672</td>\n",
       "    </tr>\n",
       "    <tr>\n",
       "      <th>kids_pets</th>\n",
       "      <td>113035</td>\n",
       "    </tr>\n",
       "    <tr>\n",
       "      <th>shopping_net</th>\n",
       "      <td>97543</td>\n",
       "    </tr>\n",
       "    <tr>\n",
       "      <th>entertainment</th>\n",
       "      <td>94014</td>\n",
       "    </tr>\n",
       "    <tr>\n",
       "      <th>food_dining</th>\n",
       "      <td>91461</td>\n",
       "    </tr>\n",
       "    <tr>\n",
       "      <th>personal_care</th>\n",
       "      <td>90758</td>\n",
       "    </tr>\n",
       "    <tr>\n",
       "      <th>health_fitness</th>\n",
       "      <td>85879</td>\n",
       "    </tr>\n",
       "    <tr>\n",
       "      <th>misc_pos</th>\n",
       "      <td>79655</td>\n",
       "    </tr>\n",
       "    <tr>\n",
       "      <th>misc_net</th>\n",
       "      <td>63287</td>\n",
       "    </tr>\n",
       "    <tr>\n",
       "      <th>grocery_net</th>\n",
       "      <td>45452</td>\n",
       "    </tr>\n",
       "    <tr>\n",
       "      <th>travel</th>\n",
       "      <td>40507</td>\n",
       "    </tr>\n",
       "  </tbody>\n",
       "</table>\n",
       "</div>"
      ],
      "text/plain": [
       "                category\n",
       "gas_transport     131659\n",
       "grocery_pos       123638\n",
       "home              123115\n",
       "shopping_pos      116672\n",
       "kids_pets         113035\n",
       "shopping_net       97543\n",
       "entertainment      94014\n",
       "food_dining        91461\n",
       "personal_care      90758\n",
       "health_fitness     85879\n",
       "misc_pos           79655\n",
       "misc_net           63287\n",
       "grocery_net        45452\n",
       "travel             40507"
      ]
     },
     "execution_count": 78,
     "metadata": {},
     "output_type": "execute_result"
    }
   ],
   "source": [
    "credit_df['category'].value_counts().to_frame()"
   ]
  },
  {
   "cell_type": "code",
   "execution_count": 82,
   "metadata": {},
   "outputs": [
    {
     "data": {
      "image/png": "[encoded data removed]",
      "text/plain": [
       "<Figure size 720x576 with 1 Axes>"
      ]
     },
     "metadata": {},
     "output_type": "display_data"
    }
   ],
   "source": [
    "#calculate the percentage difference\n",
    "a=credit_df[credit_df['is_fraud']==0]['category'].value_counts(normalize=True).to_frame().reset_index()\n",
    "a.columns=['category','not fraud percentage']\n",
    "\n",
    "b=credit_df[credit_df['is_fraud']==1]['category'].value_counts(normalize=True).to_frame().reset_index()\n",
    "b.columns=['category','fraud percentage']\n",
    "ab=a.merge(b,on='category')\n",
    "ab['diff']=ab['fraud percentage']-ab['not fraud percentage']\n",
    "\n",
    "ax=sns.barplot(y='category',x='diff',data=ab.sort_values('diff',ascending=False), color='b')\n",
    "ax.set_xlabel('Percentage Difference')\n",
    "ax.set_ylabel('Transaction Category')\n",
    "plt.title('The Percentage Difference of Fraudulent over Non-Fraudulent Transations in Each Spending Category ');"
   ]
  },
  {
   "cell_type": "markdown",
   "metadata": {},
   "source": [
    "Some  categories  see more fraud than others. Fraud tends to happen more often in 'Shopping_net', 'Grocery_pos', and 'misc_net' while 'home' and 'kids_pets' among others tend to see more normal transactions than fraudulent ones."
   ]
  },
  {
   "cell_type": "markdown",
   "metadata": {},
   "source": [
    "### 10.14.Time Vs Fraud  \n",
    "What time does the Credit Card Frauds usually take place?"
   ]
  },
  {
   "cell_type": "code",
   "execution_count": 83,
   "metadata": {},
   "outputs": [
    {
     "data": {
      "image/png": "[encoded data removed]",
      "text/plain": [
       "<Figure size 864x432 with 1 Axes>"
      ]
     },
     "metadata": {},
     "output_type": "display_data"
    }
   ],
   "source": [
    "plt.figure(figsize=(12,6)) # Set figure size to 10 inches wide by 6 inches high\n",
    "\n",
    "colors = ['green', 'b']\n",
    "palette=colors\n",
    "ax = sns.histplot(data=credit_df, x=\"hour\", hue=\"is_fraud\", common_norm=False, stat='percent', multiple='dodge', palette=colors)\n",
    "\n",
    "ax.set_ylabel('Percentage')\n",
    "ax.set_xlabel('Time (Hour) in a Day')\n",
    "plt.xticks(np.arange(0,24,1))\n",
    "plt.legend(title='Type', labels=['Fraud', 'Legit'])\n",
    "\n",
    "plt.show()"
   ]
  },
  {
   "cell_type": "markdown",
   "metadata": {},
   "source": [
    "Most fraudulent activities occur from 10pm,and this is when most people are asleep."
   ]
  },
  {
   "cell_type": "markdown",
   "metadata": {
    "id": "vTbdjSrhVIiT"
   },
   "source": [
    "## 11. PREPROCESSING  \n",
    "- A copy of the datasets was obtained for preprocessing before modeling. \n",
    "- The datasets were then preprocessed to clean and transform the data to enable the models to process it. This involved dropping some columns which may not be relevant for my modelling,converting categorical features into numerical values, scaling the data, and splitting the datasets into training and testing sets. \n",
    "- The preprocessed datasets were then used to train and evaluate the performance of the models.\n",
    "- Here I will \n",
    "- Create dummmies for categotical columns\n"
   ]
  },
  {
   "cell_type": "markdown",
   "metadata": {},
   "source": [
    "Based on our EDA above, It was found out that some of the features including transaction amout, credit card holder age, spending category, transaction time and locations all had varying degrees of correlations with credit card fraud. Feature engineering was done and it was noted that all the features are important for modelling. The model was trained on the training data set then  used the testing dataset to evaluate the model's performance.\n",
    "\n",
    "As data models need numeric input, the categorical columns were converted into numeric."
   ]
  },
  {
   "cell_type": "code",
   "execution_count": 84,
   "metadata": {
    "scrolled": false
   },
   "outputs": [],
   "source": [
    "# Define a dictionary of column name mappings\n",
    "col_names = {\n",
    "    'cc_num': 'Credit Card Number',\n",
    "    'merchant': 'Merchant Name',\n",
    "    'category': 'Merchant Category',\n",
    "    'amt': 'Transaction Amount',\n",
    "    'first': 'First Name',\n",
    "    'last': 'Last Name',\n",
    "    'gender': 'Gender',\n",
    "    'street': 'Street Address',\n",
    "    'city': 'City',\n",
    "    'state': 'State',\n",
    "    'zip': 'Zip Code',\n",
    "    'lat': 'Latitude',\n",
    "    'long': 'Longitude',\n",
    "    'city_pop': 'City Population',\n",
    "    'job': 'Occupation',\n",
    "    'dob': 'Date of Birth',\n",
    "    'trans_num': 'Transaction Number',\n",
    "    'unix_time': 'UNIX Time',\n",
    "    'merch_lat': 'Merchant Latitude',\n",
    "    'merch_long': 'Merchant Longitude',\n",
    "   'trans_date': 'Date',\n",
    "    'trans_time': 'Time',\n",
    "    'hour': 'Hour',\n",
    "    'age': 'Age',\n",
    "     'is_fraud': 'Is Fraud',\n",
    "}\n",
    "\n",
    "# Rename the columns using the dictionary of mappings\n",
    "credit_train_df = credits_df.rename(columns=col_names)\n",
    "credit_test_df = credits_test_df.rename(columns=col_names)"
   ]
  },
  {
   "cell_type": "code",
   "execution_count": 85,
   "metadata": {},
   "outputs": [],
   "source": [
    "#make copies of the dataframe\n",
    "train = credit_train_df.copy()\n",
    "test = credit_test_df.copy()"
   ]
  },
  {
   "cell_type": "markdown",
   "metadata": {},
   "source": [
    "### Feature Correlations.\n",
    "Checking for features that have high correlation with the target(Is Fraud) variable "
   ]
  },
  {
   "cell_type": "code",
   "execution_count": 86,
   "metadata": {},
   "outputs": [
    {
     "name": "stdout",
     "output_type": "stream",
     "text": [
      "Credit Card Number   -0.000981\n",
      "Transaction Amount    0.219404\n",
      "Zip Code             -0.002162\n",
      "Latitude              0.001894\n",
      "Longitude             0.001721\n",
      "City Population       0.002136\n",
      "UNIX Time            -0.005078\n",
      "Merchant Latitude     0.001741\n",
      "Merchant Longitude    0.001721\n",
      "Is Fraud              1.000000\n",
      "Hour                  0.013799\n",
      "Name: Is Fraud, dtype: float64\n"
     ]
    }
   ],
   "source": [
    "corr_Fraud = credit_train_df.corr()['Is Fraud']\n",
    "print(corr_Fraud)"
   ]
  },
  {
   "cell_type": "code",
   "execution_count": 87,
   "metadata": {},
   "outputs": [
    {
     "data": {
      "text/plain": [
       "Is Fraud              1.000000\n",
       "Transaction Amount    0.219404\n",
       "UNIX Time             0.005078\n",
       "Zip Code              0.002162\n",
       "City Population       0.002136\n",
       "Latitude              0.001894\n",
       "Merchant Latitude     0.001741\n",
       "Merchant Longitude    0.001721\n",
       "Longitude             0.001721\n",
       "Credit Card Number    0.000981\n",
       "Name: Is Fraud, dtype: float64"
      ]
     },
     "execution_count": 87,
     "metadata": {},
     "output_type": "execute_result"
    }
   ],
   "source": [
    "corr_Fraud = corr_Fraud[:-1].abs().sort_values(ascending = False)\n",
    "corr_Fraud"
   ]
  },
  {
   "cell_type": "markdown",
   "metadata": {},
   "source": [
    "To prevent the leakage of information from the target variable into the training data, the target variable (Is Fraud) was dropped from the dataset before preprocessing. This was done to ensure that the preprocessing steps were only applied to the input features and not to the target variable. By dropping the target variable, the models could be trained using only the input features, which would improve the accuracy of the predictions. The preprocessed dataset was then used to train and evaluate the performance of the models."
   ]
  },
  {
   "cell_type": "code",
   "execution_count": 89,
   "metadata": {},
   "outputs": [],
   "source": [
    "target = train['Is Fraud']\n",
    "train = train.drop('Is Fraud', axis=1)\n",
    "test = test.drop('Is Fraud', axis=1)"
   ]
  },
  {
   "cell_type": "code",
   "execution_count": 90,
   "metadata": {},
   "outputs": [],
   "source": [
    "# concatenate train data test dataset\n",
    "features = pd.concat([train, test], ignore_index = True)"
   ]
  },
  {
   "cell_type": "markdown",
   "metadata": {},
   "source": [
    "As some scaling algorithms, such as MinMaxScaler or StandardScaler, only work with numerical data and cannot handle datetime data directly, the datetime datatypes in the dataset were converted to integers during preprocessing. This was done by extracting relevant information from the datetime features, such as year, month, day, hour, and minute, and converting them to numerical values. This allowed the scaling algorithms to be applied to the dataset without encountering errors or losing important information. The preprocessed dataset, which now included only numerical features, was then used to train and evaluate the performance of the models."
   ]
  },
  {
   "cell_type": "code",
   "execution_count": 91,
   "metadata": {},
   "outputs": [],
   "source": [
    "# convert datetime columns to int\n",
    "for col in features.select_dtypes(include=['datetime64[ns]']):\n",
    "    features[col] = features[col].astype('int64')\n"
   ]
  },
  {
   "cell_type": "markdown",
   "metadata": {},
   "source": [
    "#### Checking for multicolineality among features\n",
    "To check for multicollinearity among features, the dataset was analyzed using  correlation matrix,. Multicollinearity occurs when two or more features in the dataset are highly correlated with each other, which can cause issues during modeling such as instability, overfitting, or inaccurate coefficient estimates."
   ]
  },
  {
   "cell_type": "code",
   "execution_count": 92,
   "metadata": {
    "scrolled": false
   },
   "outputs": [
    {
     "data": {
      "image/png": "[encoded data removed]",
      "text/plain": [
       "<Figure size 576x432 with 2 Axes>"
      ]
     },
     "metadata": {},
     "output_type": "display_data"
    }
   ],
   "source": [
    "#Using Pearson Correlation\n",
    "plt.figure(figsize=(8,6))\n",
    "mask = np.triu(np.ones_like(features.corr(), dtype=bool))\n",
    "cor = features.corr()\n",
    "#sns.heatmap(cor, annot=True, cmap=plt.cm.Blues_r, fmt=\".2f\", mask=mask)\n",
    "sns.heatmap(cor, annot=True, cmap=\"BrBG\", fmt=\".2f\", mask=mask)\n",
    "\n",
    "plt.show()"
   ]
  },
  {
   "cell_type": "markdown",
   "metadata": {},
   "source": [
    "The dark blue  colors represent high correlations."
   ]
  },
  {
   "cell_type": "code",
   "execution_count": 93,
   "metadata": {
    "scrolled": true
   },
   "outputs": [
    {
     "data": {
      "text/plain": [
       "Credit Card Number             int64\n",
       "Merchant Name                 object\n",
       "Merchant Category             object\n",
       "Transaction Amount           float64\n",
       "First Name                    object\n",
       "Last Name                     object\n",
       "Gender                        object\n",
       "Street Address                object\n",
       "City                          object\n",
       "State                         object\n",
       "Zip Code                       int64\n",
       "Latitude                     float64\n",
       "Longitude                    float64\n",
       "City Population                int64\n",
       "Occupation                    object\n",
       "Date of Birth         datetime64[ns]\n",
       "Transaction Number            object\n",
       "UNIX Time                      int64\n",
       "Merchant Latitude            float64\n",
       "Merchant Longitude           float64\n",
       "Is Fraud                       int64\n",
       "Date                  datetime64[ns]\n",
       "Time                          object\n",
       "Hour                           int64\n",
       "dtype: object"
      ]
     },
     "execution_count": 93,
     "metadata": {},
     "output_type": "execute_result"
    }
   ],
   "source": [
    "credit_train_df.dtypes"
   ]
  },
  {
   "cell_type": "markdown",
   "metadata": {},
   "source": [
    "### Categorical and numerical Variable Treatment\n",
    "Categorical columns were dealt with using OneHotEncoding and the numerical columns  put through a StandardScaler so all values are could be on the same scale."
   ]
  },
  {
   "cell_type": "code",
   "execution_count": 65,
   "metadata": {},
   "outputs": [
    {
     "data": {
      "text/plain": [
       "Index(['Credit Card Number', 'Merchant Name', 'Merchant Category',\n",
       "       'Transaction Amount', 'First Name', 'Last Name', 'Gender',\n",
       "       'Street Address', 'City', 'State', 'Zip Code', 'Latitude', 'Longitude',\n",
       "       'City Population', 'Occupation', 'Date of Birth', 'Transaction Number',\n",
       "       'UNIX Time', 'Merchant Latitude', 'Merchant Longitude', 'Is Fraud',\n",
       "       'Date', 'Time', 'Hour'],\n",
       "      dtype='object')"
      ]
     },
     "execution_count": 65,
     "metadata": {},
     "output_type": "execute_result"
    }
   ],
   "source": [
    "credit_train_df.columns"
   ]
  },
  {
   "cell_type": "code",
   "execution_count": 66,
   "metadata": {
    "scrolled": true
   },
   "outputs": [
    {
     "data": {
      "text/html": [
       "<div>\n",
       "<style scoped>\n",
       "    .dataframe tbody tr th:only-of-type {\n",
       "        vertical-align: middle;\n",
       "    }\n",
       "\n",
       "    .dataframe tbody tr th {\n",
       "        vertical-align: top;\n",
       "    }\n",
       "\n",
       "    .dataframe thead th {\n",
       "        text-align: right;\n",
       "    }\n",
       "</style>\n",
       "<table border=\"1\" class=\"dataframe\">\n",
       "  <thead>\n",
       "    <tr style=\"text-align: right;\">\n",
       "      <th></th>\n",
       "      <th>Merchant Name</th>\n",
       "      <th>Merchant Category</th>\n",
       "      <th>First Name</th>\n",
       "      <th>Last Name</th>\n",
       "      <th>Gender</th>\n",
       "      <th>Street Address</th>\n",
       "      <th>City</th>\n",
       "      <th>State</th>\n",
       "      <th>Occupation</th>\n",
       "      <th>Transaction Number</th>\n",
       "      <th>Time</th>\n",
       "    </tr>\n",
       "  </thead>\n",
       "  <tbody>\n",
       "    <tr>\n",
       "      <th>0</th>\n",
       "      <td>fraud_Rippin, Kub and Mann</td>\n",
       "      <td>misc_net</td>\n",
       "      <td>Jennifer</td>\n",
       "      <td>Banks</td>\n",
       "      <td>F</td>\n",
       "      <td>561 Perry Cove</td>\n",
       "      <td>Moravian Falls</td>\n",
       "      <td>NC</td>\n",
       "      <td>Psychologist, counselling</td>\n",
       "      <td>0b242abb623afc578575680df30655b9</td>\n",
       "      <td>00:00:18</td>\n",
       "    </tr>\n",
       "    <tr>\n",
       "      <th>1</th>\n",
       "      <td>fraud_Heller, Gutmann and Zieme</td>\n",
       "      <td>grocery_pos</td>\n",
       "      <td>Stephanie</td>\n",
       "      <td>Gill</td>\n",
       "      <td>F</td>\n",
       "      <td>43039 Riley Greens Suite 393</td>\n",
       "      <td>Orient</td>\n",
       "      <td>WA</td>\n",
       "      <td>Special educational needs teacher</td>\n",
       "      <td>1f76529f8574734946361c461b024d99</td>\n",
       "      <td>00:00:44</td>\n",
       "    </tr>\n",
       "    <tr>\n",
       "      <th>2</th>\n",
       "      <td>fraud_Lind-Buckridge</td>\n",
       "      <td>entertainment</td>\n",
       "      <td>Edward</td>\n",
       "      <td>Sanchez</td>\n",
       "      <td>M</td>\n",
       "      <td>594 White Dale Suite 530</td>\n",
       "      <td>Malad City</td>\n",
       "      <td>ID</td>\n",
       "      <td>Nature conservation officer</td>\n",
       "      <td>a1a22d70485983eac12b5b88dad1cf95</td>\n",
       "      <td>00:00:51</td>\n",
       "    </tr>\n",
       "  </tbody>\n",
       "</table>\n",
       "</div>"
      ],
      "text/plain": [
       "                     Merchant Name Merchant Category First Name Last Name  \\\n",
       "0       fraud_Rippin, Kub and Mann          misc_net   Jennifer     Banks   \n",
       "1  fraud_Heller, Gutmann and Zieme       grocery_pos  Stephanie      Gill   \n",
       "2             fraud_Lind-Buckridge     entertainment     Edward   Sanchez   \n",
       "\n",
       "  Gender                Street Address            City State  \\\n",
       "0      F                561 Perry Cove  Moravian Falls    NC   \n",
       "1      F  43039 Riley Greens Suite 393          Orient    WA   \n",
       "2      M      594 White Dale Suite 530      Malad City    ID   \n",
       "\n",
       "                          Occupation                Transaction Number  \\\n",
       "0          Psychologist, counselling  0b242abb623afc578575680df30655b9   \n",
       "1  Special educational needs teacher  1f76529f8574734946361c461b024d99   \n",
       "2        Nature conservation officer  a1a22d70485983eac12b5b88dad1cf95   \n",
       "\n",
       "       Time  \n",
       "0  00:00:18  \n",
       "1  00:00:44  \n",
       "2  00:00:51  "
      ]
     },
     "execution_count": 66,
     "metadata": {},
     "output_type": "execute_result"
    }
   ],
   "source": [
    "#creating a variable to store categorical columns\n",
    "categ= credit_train_df.select_dtypes(include=[\"object\"])\n",
    "categ.head(3)"
   ]
  },
  {
   "cell_type": "code",
   "execution_count": 67,
   "metadata": {},
   "outputs": [],
   "source": [
    "# binary encoding\n",
    "from sklearn.preprocessing import OrdinalEncoder\n",
    "\n",
    "enc = OrdinalEncoder(dtype=np.int64)\n",
    "enc.fit(credit_train_df.loc[:,['Merchant Category', 'Merchant Name','First Name', 'Last Name', 'Gender', 'Street Address', 'City','State', 'Occupation', 'Transaction Number', 'Time']])\n",
    "\n",
    "credit_train_df.loc[:, ['Merchant Category', 'Merchant Name','First Name', 'Last Name', 'Gender', 'Street Address', 'City','State', 'Occupation', 'Transaction Number', 'Time']] = enc.transform(credit_train_df[['Merchant Category', 'Merchant Name','First Name', 'Last Name', 'Gender', 'Street Address', 'City','State', 'Occupation', 'Transaction Number', 'Time']])"
   ]
  },
  {
   "cell_type": "markdown",
   "metadata": {},
   "source": [
    "### Defining predictor and target variables"
   ]
  },
  {
   "cell_type": "code",
   "execution_count": 68,
   "metadata": {},
   "outputs": [],
   "source": [
    "X = credit_train_df.drop('Is Fraud', axis= 1)\n",
    "y = credit_train_df['Is Fraud']"
   ]
  },
  {
   "cell_type": "markdown",
   "metadata": {},
   "source": [
    "### Performing a train and test split"
   ]
  },
  {
   "cell_type": "code",
   "execution_count": 69,
   "metadata": {},
   "outputs": [],
   "source": [
    "# train and test split with the test data comprosing of 20% of the initial data \n",
    "X_train, X_test, y_train, y_test = train_test_split(X, y, test_size = 0.2, random_state=1)"
   ]
  },
  {
   "cell_type": "markdown",
   "metadata": {},
   "source": [
    "### Feature Scaling\n",
    "The current data is mostly on different scales which will hinder the effectiveness of model"
   ]
  },
  {
   "cell_type": "code",
   "execution_count": 70,
   "metadata": {},
   "outputs": [
    {
     "data": {
      "text/plain": [
       "Credit Card Number      int64\n",
       "Merchant Name           int64\n",
       "Merchant Category       int64\n",
       "Transaction Amount    float64\n",
       "First Name              int64\n",
       "Last Name               int64\n",
       "Gender                  int64\n",
       "Street Address          int64\n",
       "City                    int64\n",
       "State                   int64\n",
       "Zip Code                int64\n",
       "Latitude              float64\n",
       "Longitude             float64\n",
       "City Population         int64\n",
       "Occupation              int64\n",
       "Date of Birth           int64\n",
       "Transaction Number      int64\n",
       "UNIX Time               int64\n",
       "Merchant Latitude     float64\n",
       "Merchant Longitude    float64\n",
       "Is Fraud                int64\n",
       "Date                    int64\n",
       "Time                    int64\n",
       "Hour                    int64\n",
       "dtype: object"
      ]
     },
     "execution_count": 70,
     "metadata": {},
     "output_type": "execute_result"
    }
   ],
   "source": [
    "credit_train_df.dtypes"
   ]
  },
  {
   "cell_type": "code",
   "execution_count": 71,
   "metadata": {
    "scrolled": false
   },
   "outputs": [
    {
     "data": {
      "text/html": [
       "<div>\n",
       "<style scoped>\n",
       "    .dataframe tbody tr th:only-of-type {\n",
       "        vertical-align: middle;\n",
       "    }\n",
       "\n",
       "    .dataframe tbody tr th {\n",
       "        vertical-align: top;\n",
       "    }\n",
       "\n",
       "    .dataframe thead th {\n",
       "        text-align: right;\n",
       "    }\n",
       "</style>\n",
       "<table border=\"1\" class=\"dataframe\">\n",
       "  <thead>\n",
       "    <tr style=\"text-align: right;\">\n",
       "      <th></th>\n",
       "      <th>Credit Card Number</th>\n",
       "      <th>Merchant Name</th>\n",
       "      <th>Merchant Category</th>\n",
       "      <th>Transaction Amount</th>\n",
       "      <th>First Name</th>\n",
       "      <th>Last Name</th>\n",
       "      <th>Gender</th>\n",
       "      <th>Street Address</th>\n",
       "      <th>City</th>\n",
       "      <th>State</th>\n",
       "      <th>Zip Code</th>\n",
       "      <th>Latitude</th>\n",
       "      <th>Longitude</th>\n",
       "      <th>City Population</th>\n",
       "      <th>Occupation</th>\n",
       "      <th>Date of Birth</th>\n",
       "      <th>Transaction Number</th>\n",
       "      <th>UNIX Time</th>\n",
       "      <th>Merchant Latitude</th>\n",
       "      <th>Merchant Longitude</th>\n",
       "      <th>Is Fraud</th>\n",
       "      <th>Date</th>\n",
       "      <th>Time</th>\n",
       "      <th>Hour</th>\n",
       "    </tr>\n",
       "  </thead>\n",
       "  <tbody>\n",
       "    <tr>\n",
       "      <th>0</th>\n",
       "      <td>-0.316692</td>\n",
       "      <td>0.851654</td>\n",
       "      <td>0.452853</td>\n",
       "      <td>-0.407826</td>\n",
       "      <td>-0.187242</td>\n",
       "      <td>-1.701281</td>\n",
       "      <td>-0.909206</td>\n",
       "      <td>0.285529</td>\n",
       "      <td>0.312207</td>\n",
       "      <td>0.022519</td>\n",
       "      <td>-0.749136</td>\n",
       "      <td>-0.484420</td>\n",
       "      <td>0.657620</td>\n",
       "      <td>-0.282589</td>\n",
       "      <td>0.848099</td>\n",
       "      <td>0.829704</td>\n",
       "      <td>-1.581274</td>\n",
       "      <td>-1.858664</td>\n",
       "      <td>-0.494354</td>\n",
       "      <td>0.593864</td>\n",
       "      <td>-0.076304</td>\n",
       "      <td>-1.8481</td>\n",
       "      <td>-1.949023</td>\n",
       "      <td>-1.878145</td>\n",
       "    </tr>\n",
       "    <tr>\n",
       "      <th>1</th>\n",
       "      <td>-0.318757</td>\n",
       "      <td>-0.506880</td>\n",
       "      <td>-0.569266</td>\n",
       "      <td>0.230039</td>\n",
       "      <td>1.319929</td>\n",
       "      <td>-0.684263</td>\n",
       "      <td>-0.909206</td>\n",
       "      <td>-0.189368</td>\n",
       "      <td>0.644767</td>\n",
       "      <td>1.418098</td>\n",
       "      <td>1.872567</td>\n",
       "      <td>2.039120</td>\n",
       "      <td>-2.033870</td>\n",
       "      <td>-0.293670</td>\n",
       "      <td>1.262061</td>\n",
       "      <td>0.270974</td>\n",
       "      <td>-1.306222</td>\n",
       "      <td>-1.858662</td>\n",
       "      <td>2.078699</td>\n",
       "      <td>-2.030341</td>\n",
       "      <td>-0.076304</td>\n",
       "      <td>-1.8481</td>\n",
       "      <td>-1.947964</td>\n",
       "      <td>-1.878145</td>\n",
       "    </tr>\n",
       "    <tr>\n",
       "      <th>2</th>\n",
       "      <td>-0.318728</td>\n",
       "      <td>0.234591</td>\n",
       "      <td>-1.591384</td>\n",
       "      <td>0.934149</td>\n",
       "      <td>-0.669126</td>\n",
       "      <td>0.954674</td>\n",
       "      <td>1.099861</td>\n",
       "      <td>0.406932</td>\n",
       "      <td>0.087922</td>\n",
       "      <td>-0.954386</td>\n",
       "      <td>1.281042</td>\n",
       "      <td>0.717754</td>\n",
       "      <td>-1.601537</td>\n",
       "      <td>-0.280406</td>\n",
       "      <td>0.398450</td>\n",
       "      <td>-0.673150</td>\n",
       "      <td>0.455137</td>\n",
       "      <td>-1.858662</td>\n",
       "      <td>0.902849</td>\n",
       "      <td>-1.592323</td>\n",
       "      <td>-0.076304</td>\n",
       "      <td>-1.8481</td>\n",
       "      <td>-1.947680</td>\n",
       "      <td>-1.878145</td>\n",
       "    </tr>\n",
       "    <tr>\n",
       "      <th>3</th>\n",
       "      <td>-0.316058</td>\n",
       "      <td>0.085302</td>\n",
       "      <td>-1.080325</td>\n",
       "      <td>-0.158132</td>\n",
       "      <td>-0.176989</td>\n",
       "      <td>1.554641</td>\n",
       "      <td>1.099861</td>\n",
       "      <td>1.578106</td>\n",
       "      <td>-1.396996</td>\n",
       "      <td>-0.047260</td>\n",
       "      <td>0.402753</td>\n",
       "      <td>1.515617</td>\n",
       "      <td>-1.590766</td>\n",
       "      <td>-0.287742</td>\n",
       "      <td>0.548333</td>\n",
       "      <td>-0.386780</td>\n",
       "      <td>-0.277203</td>\n",
       "      <td>-1.858660</td>\n",
       "      <td>1.662886</td>\n",
       "      <td>-1.621848</td>\n",
       "      <td>-0.076304</td>\n",
       "      <td>-1.8481</td>\n",
       "      <td>-1.946662</td>\n",
       "      <td>-1.878145</td>\n",
       "    </tr>\n",
       "    <tr>\n",
       "      <th>4</th>\n",
       "      <td>-0.318471</td>\n",
       "      <td>-0.228206</td>\n",
       "      <td>0.708382</td>\n",
       "      <td>-0.177094</td>\n",
       "      <td>1.596756</td>\n",
       "      <td>-0.742796</td>\n",
       "      <td>1.099861</td>\n",
       "      <td>-0.250069</td>\n",
       "      <td>-0.886556</td>\n",
       "      <td>1.278540</td>\n",
       "      <td>-0.906090</td>\n",
       "      <td>-0.023035</td>\n",
       "      <td>0.782279</td>\n",
       "      <td>-0.293835</td>\n",
       "      <td>-0.964771</td>\n",
       "      <td>0.717611</td>\n",
       "      <td>0.488286</td>\n",
       "      <td>-1.858651</td>\n",
       "      <td>0.026941</td>\n",
       "      <td>0.841909</td>\n",
       "      <td>-0.076304</td>\n",
       "      <td>-1.8481</td>\n",
       "      <td>-1.942184</td>\n",
       "      <td>-1.878145</td>\n",
       "    </tr>\n",
       "  </tbody>\n",
       "</table>\n",
       "</div>"
      ],
      "text/plain": [
       "   Credit Card Number  Merchant Name  Merchant Category  Transaction Amount  \\\n",
       "0           -0.316692       0.851654           0.452853           -0.407826   \n",
       "1           -0.318757      -0.506880          -0.569266            0.230039   \n",
       "2           -0.318728       0.234591          -1.591384            0.934149   \n",
       "3           -0.316058       0.085302          -1.080325           -0.158132   \n",
       "4           -0.318471      -0.228206           0.708382           -0.177094   \n",
       "\n",
       "   First Name  Last Name    Gender  Street Address      City     State  \\\n",
       "0   -0.187242  -1.701281 -0.909206        0.285529  0.312207  0.022519   \n",
       "1    1.319929  -0.684263 -0.909206       -0.189368  0.644767  1.418098   \n",
       "2   -0.669126   0.954674  1.099861        0.406932  0.087922 -0.954386   \n",
       "3   -0.176989   1.554641  1.099861        1.578106 -1.396996 -0.047260   \n",
       "4    1.596756  -0.742796  1.099861       -0.250069 -0.886556  1.278540   \n",
       "\n",
       "   Zip Code  Latitude  Longitude  City Population  Occupation  Date of Birth  \\\n",
       "0 -0.749136 -0.484420   0.657620        -0.282589    0.848099       0.829704   \n",
       "1  1.872567  2.039120  -2.033870        -0.293670    1.262061       0.270974   \n",
       "2  1.281042  0.717754  -1.601537        -0.280406    0.398450      -0.673150   \n",
       "3  0.402753  1.515617  -1.590766        -0.287742    0.548333      -0.386780   \n",
       "4 -0.906090 -0.023035   0.782279        -0.293835   -0.964771       0.717611   \n",
       "\n",
       "   Transaction Number  UNIX Time  Merchant Latitude  Merchant Longitude  \\\n",
       "0           -1.581274  -1.858664          -0.494354            0.593864   \n",
       "1           -1.306222  -1.858662           2.078699           -2.030341   \n",
       "2            0.455137  -1.858662           0.902849           -1.592323   \n",
       "3           -0.277203  -1.858660           1.662886           -1.621848   \n",
       "4            0.488286  -1.858651           0.026941            0.841909   \n",
       "\n",
       "   Is Fraud    Date      Time      Hour  \n",
       "0 -0.076304 -1.8481 -1.949023 -1.878145  \n",
       "1 -0.076304 -1.8481 -1.947964 -1.878145  \n",
       "2 -0.076304 -1.8481 -1.947680 -1.878145  \n",
       "3 -0.076304 -1.8481 -1.946662 -1.878145  \n",
       "4 -0.076304 -1.8481 -1.942184 -1.878145  "
      ]
     },
     "execution_count": 71,
     "metadata": {},
     "output_type": "execute_result"
    }
   ],
   "source": [
    "# Use Standard Scaler to standardize the features of the training set\n",
    "# initiate the standard scaler\n",
    "ss = StandardScaler()\n",
    "\n",
    "#fit the scaler\n",
    "scaled_features = ss.fit_transform(credit_train_df[credit_train_df.columns])\n",
    "scaled_features = pd.DataFrame(scaled_features, columns=credit_train_df.columns)\n",
    "scaled_features.head()"
   ]
  },
  {
   "cell_type": "markdown",
   "metadata": {},
   "source": [
    "### Handling class imbalance "
   ]
  },
  {
   "cell_type": "markdown",
   "metadata": {},
   "source": [
    "Classification algorithms in general work better with balanced data, because they get to learn from as many data points of a given class as from the remaining classes."
   ]
  },
  {
   "cell_type": "code",
   "execution_count": 72,
   "metadata": {},
   "outputs": [
    {
     "data": {
      "text/html": [
       "<div>\n",
       "<style scoped>\n",
       "    .dataframe tbody tr th:only-of-type {\n",
       "        vertical-align: middle;\n",
       "    }\n",
       "\n",
       "    .dataframe tbody tr th {\n",
       "        vertical-align: top;\n",
       "    }\n",
       "\n",
       "    .dataframe thead th {\n",
       "        text-align: right;\n",
       "    }\n",
       "</style>\n",
       "<table border=\"1\" class=\"dataframe\">\n",
       "  <thead>\n",
       "    <tr style=\"text-align: right;\">\n",
       "      <th></th>\n",
       "      <th>Is Fraud</th>\n",
       "    </tr>\n",
       "  </thead>\n",
       "  <tbody>\n",
       "    <tr>\n",
       "      <th>0</th>\n",
       "      <td>0.994143</td>\n",
       "    </tr>\n",
       "    <tr>\n",
       "      <th>1</th>\n",
       "      <td>0.005857</td>\n",
       "    </tr>\n",
       "  </tbody>\n",
       "</table>\n",
       "</div>"
      ],
      "text/plain": [
       "   Is Fraud\n",
       "0  0.994143\n",
       "1  0.005857"
      ]
     },
     "execution_count": 72,
     "metadata": {},
     "output_type": "execute_result"
    }
   ],
   "source": [
    "# Explore value counts y Variables\n",
    "y_train.value_counts(normalize = True).to_frame()"
   ]
  },
  {
   "cell_type": "markdown",
   "metadata": {
    "scrolled": true
   },
   "source": [
    "If we were to just predict the most frequent normal value, normal transaction, then we would be correct 99% of the time.\n",
    "Over-sampling the minority classs using SMOTE"
   ]
  },
  {
   "cell_type": "code",
   "execution_count": 73,
   "metadata": {},
   "outputs": [],
   "source": [
    "from imblearn.over_sampling import SMOTE\n",
    "# Using SMOTE to deal with the class imbalance\n",
    "\n",
    "# oversampling\n",
    "smote = SMOTE(random_state=42)\n",
    "\n",
    "# fit smote on the train dataset\n",
    "X_train_Smote, y_train_Smote = smote.fit_resample(X_train, y_train)"
   ]
  },
  {
   "cell_type": "code",
   "execution_count": 74,
   "metadata": {},
   "outputs": [
    {
     "data": {
      "text/html": [
       "<div>\n",
       "<style scoped>\n",
       "    .dataframe tbody tr th:only-of-type {\n",
       "        vertical-align: middle;\n",
       "    }\n",
       "\n",
       "    .dataframe tbody tr th {\n",
       "        vertical-align: top;\n",
       "    }\n",
       "\n",
       "    .dataframe thead th {\n",
       "        text-align: right;\n",
       "    }\n",
       "</style>\n",
       "<table border=\"1\" class=\"dataframe\">\n",
       "  <thead>\n",
       "    <tr style=\"text-align: right;\">\n",
       "      <th></th>\n",
       "      <th>Is Fraud</th>\n",
       "    </tr>\n",
       "  </thead>\n",
       "  <tbody>\n",
       "    <tr>\n",
       "      <th>0</th>\n",
       "      <td>0.5</td>\n",
       "    </tr>\n",
       "    <tr>\n",
       "      <th>1</th>\n",
       "      <td>0.5</td>\n",
       "    </tr>\n",
       "  </tbody>\n",
       "</table>\n",
       "</div>"
      ],
      "text/plain": [
       "   Is Fraud\n",
       "0       0.5\n",
       "1       0.5"
      ]
     },
     "execution_count": 74,
     "metadata": {},
     "output_type": "execute_result"
    }
   ],
   "source": [
    "# Print new value counts\n",
    "y_train_Smote.value_counts(normalize=True).to_frame()"
   ]
  },
  {
   "cell_type": "code",
   "execution_count": 75,
   "metadata": {},
   "outputs": [
    {
     "name": "stdout",
     "output_type": "stream",
     "text": [
      "Baseline Accuracy: 99.0%\n"
     ]
    }
   ],
   "source": [
    "from sklearn.dummy import DummyClassifier\n",
    "dummy = DummyClassifier(strategy='most_frequent')\n",
    "dummy.fit(X_train, y_train)\n",
    "baseline_acc = round(dummy.score(X_test, y_test), 2) * 100\n",
    "print('Baseline Accuracy: {0}%'.format(baseline_acc))"
   ]
  },
  {
   "cell_type": "code",
   "execution_count": 76,
   "metadata": {},
   "outputs": [
    {
     "name": "stdout",
     "output_type": "stream",
     "text": [
      "Raw Counts\n",
      "0    1031264\n",
      "1    1031264\n",
      "Name: Is Fraud, dtype: int64\n",
      "\n",
      "Percentages\n",
      "0    0.5\n",
      "1    0.5\n",
      "Name: Is Fraud, dtype: float64\n"
     ]
    }
   ],
   "source": [
    "# check the dummy accuracy of the raw data\n",
    "print(\"Raw Counts\")\n",
    "print(y_train_Smote.value_counts())\n",
    "print()\n",
    "print(\"Percentages\")\n",
    "print(y_train_Smote.value_counts(normalize=True))"
   ]
  },
  {
   "cell_type": "markdown",
   "metadata": {},
   "source": [
    "## Modeling"
   ]
  },
  {
   "cell_type": "markdown",
   "metadata": {},
   "source": [
    "Both the training and test datasets are cleaned and organized, building models commenced. \n",
    "In coming up with the best model, the following approach will be taken:\n",
    "\n",
    "- Fitting  potential models such a random forest classifier, Logistic Model, decision tree and knn\n",
    "\n",
    "- Hyperparameters tuning of the two best models ( taking into account prediction accuracy and recall)\n",
    "\n",
    "- Comparing vanilla versions of the two best models with the tuned versions of the models and selecting the best model to optimize our business problem"
   ]
  },
  {
   "cell_type": "markdown",
   "metadata": {},
   "source": [
    "To evaluate fraud detection models, the concepts of sensitivty/recall and precision are very important. Recall is True Positives/(True Positives + False Negatives), which measures how many fraud cases fly under the radar while precision (True Positives/(True Positives + False Positives)) evaluates how good the model is at generating as fewer false alarms as possible. For fraud detection,  prioritize high recall to leave out as few fraud cases as possible while also having a relatively high precision because too many false alarms can also be a problem!"
   ]
  },
  {
   "cell_type": "markdown",
   "metadata": {},
   "source": [
    "### Logistic Regression"
   ]
  },
  {
   "cell_type": "code",
   "execution_count": 77,
   "metadata": {},
   "outputs": [
    {
     "name": "stdout",
     "output_type": "stream",
     "text": [
      "Accuracy of Baseline Model (Logistic Regression): 0.5903175429463821\n",
      "F1 score of Baseline Model (Logistic Regression): 0.73747086647059\n"
     ]
    }
   ],
   "source": [
    "# Initialize the model\n",
    "logreg = LogisticRegression(random_state=0)\n",
    "\n",
    "# Fit the model on the training data\n",
    "logreg.fit(X_train_Smote, y_train_Smote)\n",
    "\n",
    "# Predict target values for the test data\n",
    "y_pred_logreg = logreg.predict(X_test)\n",
    "\n",
    "# Evaluate the model performance\n",
    "# Calculate accuracy score\n",
    "accuracy_1 = accuracy_score(y_test, y_pred_logreg)\n",
    "f1_score_1 = f1_score(y_test, y_pred_logreg, average=\"weighted\")\n",
    "print(\"Accuracy of Baseline Model (Logistic Regression):\", accuracy_1)\n",
    "print(\"F1 score of Baseline Model (Logistic Regression):\", f1_score_1)"
   ]
  },
  {
   "cell_type": "code",
   "execution_count": 78,
   "metadata": {},
   "outputs": [
    {
     "name": "stdout",
     "output_type": "stream",
     "text": [
      "              precision    recall  f1-score   support\n",
      "\n",
      "           0       1.00      0.59      0.74    257905\n",
      "           1       0.01      0.50      0.01      1430\n",
      "\n",
      "    accuracy                           0.59    259335\n",
      "   macro avg       0.50      0.55      0.38    259335\n",
      "weighted avg       0.99      0.59      0.74    259335\n",
      "\n"
     ]
    }
   ],
   "source": [
    "report_lr = classification_report(y_test, y_pred_logreg)\n",
    "print(report_lr)"
   ]
  },
  {
   "cell_type": "code",
   "execution_count": 79,
   "metadata": {},
   "outputs": [
    {
     "data": {
      "image/png": "[encoded data removed]",
      "text/plain": [
       "<Figure size 720x576 with 2 Axes>"
      ]
     },
     "metadata": {},
     "output_type": "display_data"
    }
   ],
   "source": [
    "from sklearn.metrics import accuracy_score, f1_score, precision_score, recall_score, classification_report, confusion_matrix, auc, roc_curve\n",
    "\n",
    "# plotting a confusion matrix \n",
    "confus_matrix_log= confusion_matrix(y_test, y_pred_logreg)\n",
    "\n",
    "#plt.figure(figsize= (10,8))\n",
    "ax= plt.subplot()\n",
    "sns.heatmap(confus_matrix_log , annot=True, fmt='g', ax=ax, linewidth =0.2);  \n",
    "ax.set_xlabel('Predicted labels');ax.set_ylabel('True labels'); \n",
    "ax.set_title('Logistic Regression'); \n",
    "ax.xaxis.set_ticklabels(['Non-Fraud', 'Fraud']); ax.yaxis.set_ticklabels(['Non-Fraud', 'Fraud']);"
   ]
  },
  {
   "cell_type": "markdown",
   "metadata": {},
   "source": [
    "The recall score and Precision for the logistic regression with balanced class weights at 50% and 1% respectively which is not great at all .Of all the predicted fraudulent transactions, only 1% are actually fraudulent."
   ]
  },
  {
   "cell_type": "markdown",
   "metadata": {},
   "source": [
    "## Random Forest"
   ]
  },
  {
   "cell_type": "code",
   "execution_count": 80,
   "metadata": {
    "scrolled": false
   },
   "outputs": [
    {
     "data": {
      "text/plain": [
       "RandomForestClassifier(max_depth=5, min_samples_leaf=100, n_estimators=10,\n",
       "                       oob_score=True, random_state=100)"
      ]
     },
     "execution_count": 80,
     "metadata": {},
     "output_type": "execute_result"
    }
   ],
   "source": [
    "from sklearn.ensemble import RandomForestClassifier\n",
    "#from sklearn.metrics import plot_roc_curve\n",
    "\n",
    "rf = RandomForestClassifier(n_estimators=10, max_depth=5, \n",
    "                             min_samples_leaf=100, random_state=100, oob_score=True)\n",
    "\n",
    "\n",
    "\n",
    "rf.fit(X_train_Smote, y_train_Smote)"
   ]
  },
  {
   "cell_type": "code",
   "execution_count": 81,
   "metadata": {},
   "outputs": [
    {
     "name": "stdout",
     "output_type": "stream",
     "text": [
      "Accuracy of Baseline Model (Logistic Regression): 0.5903175429463821\n",
      "F1 score of Baseline Model (Logistic Regression): 0.73747086647059\n"
     ]
    }
   ],
   "source": [
    "y_pred_rf = rf.predict(X_test)\n",
    "\n",
    "accuracy_rf = accuracy_score(y_test, y_pred_rf)\n",
    "f1_score_rf = f1_score(y_test, y_pred_rf, average=\"weighted\")\n",
    "print(\"Accuracy of Baseline Model (Logistic Regression):\", accuracy_1)\n",
    "print(\"F1 score of Baseline Model (Logistic Regression):\", f1_score_1)"
   ]
  },
  {
   "cell_type": "code",
   "execution_count": 82,
   "metadata": {},
   "outputs": [
    {
     "name": "stdout",
     "output_type": "stream",
     "text": [
      "              precision    recall  f1-score   support\n",
      "\n",
      "           0       1.00      0.94      0.97    257905\n",
      "           1       0.07      0.80      0.14      1430\n",
      "\n",
      "    accuracy                           0.94    259335\n",
      "   macro avg       0.54      0.87      0.55    259335\n",
      "weighted avg       0.99      0.94      0.97    259335\n",
      "\n"
     ]
    }
   ],
   "source": [
    "report_lr = classification_report(y_test, y_pred_rf)\n",
    "print(report_lr)"
   ]
  },
  {
   "cell_type": "markdown",
   "metadata": {},
   "source": [
    "The recall score and Precision for the Random Forest  with balanced class weights at 80% and 7% respectively which is not too bad .Of all the predicted fraudulent transactions, only 7% are actually fraudulent."
   ]
  },
  {
   "cell_type": "code",
   "execution_count": 83,
   "metadata": {},
   "outputs": [
    {
     "name": "stdout",
     "output_type": "stream",
     "text": [
      "Train: 0.886456814162038\n",
      "\n",
      "Test: 0.9437098733298629\n"
     ]
    }
   ],
   "source": [
    "# Training accuracy score\n",
    "print('Train:', rf.score(X_train_Smote, y_train_Smote))\n",
    "print()\n",
    "print('Test:', rf.score(X_test, y_test))"
   ]
  },
  {
   "cell_type": "code",
   "execution_count": 84,
   "metadata": {},
   "outputs": [
    {
     "data": {
      "image/png": "[encoded data removed]",
      "text/plain": [
       "<Figure size 720x576 with 2 Axes>"
      ]
     },
     "metadata": {},
     "output_type": "display_data"
    }
   ],
   "source": [
    "# plotting a confusion matrix \n",
    "confus_matrix_log= confusion_matrix(y_test, y_pred_rf)\n",
    "\n",
    "#plt.figure(figsize= (10,8))\n",
    "ax= plt.subplot()\n",
    "sns.heatmap(confus_matrix_log , annot=True, fmt='g', ax=ax, linewidth =0.2);  \n",
    "ax.set_xlabel('Predicted labels');ax.set_ylabel('True labels'); \n",
    "ax.set_title('Random Forest'); \n",
    "ax.xaxis.set_ticklabels(['Non-Fraud', 'Fraud']); ax.yaxis.set_ticklabels(['Non-Fraud', 'Fraud']);"
   ]
  },
  {
   "cell_type": "markdown",
   "metadata": {},
   "source": [
    "### Decision Tree"
   ]
  },
  {
   "cell_type": "code",
   "execution_count": 85,
   "metadata": {},
   "outputs": [],
   "source": [
    "from sklearn.tree import DecisionTreeClassifier\n",
    "# Initialize the model\n",
    "decision_tree = DecisionTreeClassifier(random_state = 42)\n",
    "\n",
    "# Fit the model to the training data\n",
    "decision_tree.fit(X_train, y_train)\n",
    "\n",
    "# Predict the classes on the test data\n",
    "y_pred_decision_tree = decision_tree.predict(X_test)"
   ]
  },
  {
   "cell_type": "code",
   "execution_count": 86,
   "metadata": {},
   "outputs": [
    {
     "name": "stdout",
     "output_type": "stream",
     "text": [
      "              precision    recall  f1-score   support\n",
      "\n",
      "           0       1.00      1.00      1.00    257905\n",
      "           1       0.80      0.83      0.81      1430\n",
      "\n",
      "    accuracy                           1.00    259335\n",
      "   macro avg       0.90      0.91      0.91    259335\n",
      "weighted avg       1.00      1.00      1.00    259335\n",
      "\n"
     ]
    }
   ],
   "source": [
    "report_lr = classification_report(y_test, y_pred_decision_tree)\n",
    "print(report_lr)"
   ]
  },
  {
   "cell_type": "markdown",
   "metadata": {},
   "source": [
    "The recall score for Decision Tree with balanced class weights at 83% is the best we have achieved so far and the precision score is also great: of all the predicted fraudulent transactions,  80% are actually fraudulent."
   ]
  },
  {
   "cell_type": "code",
   "execution_count": 87,
   "metadata": {},
   "outputs": [
    {
     "name": "stdout",
     "output_type": "stream",
     "text": [
      "Train: 0.7909225959599094\n",
      "\n",
      "Test: 0.9979100391385659\n"
     ]
    }
   ],
   "source": [
    "# Training and test accuracy score\n",
    "print('Train:', decision_tree.score(X_train_Smote, y_train_Smote))\n",
    "print()\n",
    "print('Test:', decision_tree.score(X_test, y_test))"
   ]
  },
  {
   "cell_type": "code",
   "execution_count": 88,
   "metadata": {},
   "outputs": [
    {
     "data": {
      "image/png": "[encoded data removed]",
      "text/plain": [
       "<Figure size 720x576 with 2 Axes>"
      ]
     },
     "metadata": {},
     "output_type": "display_data"
    }
   ],
   "source": [
    "# plotting a confusion matrix \n",
    "\n",
    "confus_matrix_log= confusion_matrix(y_test, y_pred_decision_tree)\n",
    "\n",
    "#plt.figure(figsize= (10,8))\n",
    "ax= plt.subplot()\n",
    "sns.heatmap(confus_matrix_log , annot=True, fmt='g', ax=ax, linewidth =0.2);  \n",
    "ax.set_xlabel('Predicted labels');ax.set_ylabel('True labels'); \n",
    "ax.set_title('Logistic Regression'); \n",
    "ax.xaxis.set_ticklabels(['Non-Fraud', 'Fraud']); ax.yaxis.set_ticklabels(['Non-Fraud', 'Fraud']);"
   ]
  },
  {
   "cell_type": "markdown",
   "metadata": {},
   "source": [
    "##  K Nearest Neighbors"
   ]
  },
  {
   "cell_type": "code",
   "execution_count": 89,
   "metadata": {},
   "outputs": [
    {
     "data": {
      "text/plain": [
       "KNeighborsClassifier(n_neighbors=3)"
      ]
     },
     "execution_count": 89,
     "metadata": {},
     "output_type": "execute_result"
    }
   ],
   "source": [
    "# Instantiate the classifier model with n-neighbours of 3\n",
    "knn = KNeighborsClassifier(n_neighbors=3)\n",
    "\n",
    "# fitting the model\n",
    "knn.fit(X_train_Smote, y_train_Smote)"
   ]
  },
  {
   "cell_type": "code",
   "execution_count": null,
   "metadata": {},
   "outputs": [],
   "source": [
    "y_pred_knn = knn.predict(X_test)"
   ]
  },
  {
   "cell_type": "code",
   "execution_count": null,
   "metadata": {},
   "outputs": [],
   "source": [
    "accuracy_knn = accuracy_score(y_test, y_pred_knn)\n",
    "f1_score_knn = f1_score(y_test, y_pred_knn, average=\"weighted\")\n",
    "print(\"Accuracy of Baseline Model (Logistic Regression):\", accuracy_1)\n",
    "print(\"F1 score of Baseline Model (Logistic Regression):\", f1_score_1)"
   ]
  },
  {
   "cell_type": "code",
   "execution_count": null,
   "metadata": {},
   "outputs": [],
   "source": [
    "report_lr = classification_report(y_test, y_pred_knn)\n",
    "print(report_lr)"
   ]
  },
  {
   "cell_type": "code",
   "execution_count": null,
   "metadata": {},
   "outputs": [],
   "source": [
    "confus_matrix_log= confusion_matrix(y_test, y_pred_knn)\n",
    "\n",
    "#plt.figure(figsize= (10,8))\n",
    "ax= plt.subplot()\n",
    "sns.heatmap(confus_matrix_log , annot=True, fmt='g', ax=ax, linewidth =0.2);  \n",
    "ax.set_xlabel('Predicted labels');ax.set_ylabel('True labels'); \n",
    "ax.set_title('K Nearest Neighbors'); \n",
    "ax.xaxis.set_ticklabels(['Non-Fraud', 'Fraud']); ax.yaxis.set_ticklabels(['Non-Fraud', 'Fraud']);"
   ]
  },
  {
   "cell_type": "code",
   "execution_count": null,
   "metadata": {},
   "outputs": [],
   "source": [
    "# Training accuracy score\n",
    "print('Train:', knn.score(X_train_Smote, y_train_Smote))\n",
    "print()\n",
    "print('Test:', knn.score(X_test, y_test))"
   ]
  },
  {
   "cell_type": "markdown",
   "metadata": {},
   "source": [
    "### Prediction with test dataset"
   ]
  },
  {
   "cell_type": "markdown",
   "metadata": {
    "id": "lQ2G4ZPDVOXE"
   },
   "source": [
    "## 8. Challenging the solution"
   ]
  },
  {
   "cell_type": "markdown",
   "metadata": {
    "id": "jWVGKGuiYMWg"
   },
   "source": [
    "> The easy solution is nice because it is, well, easy, but you should never allow those results to hold the day. You should always be thinking of ways to challenge the results, especially if those results comport with your prior expectation.\n",
    "\n",
    "\n",
    "\n",
    "\n"
   ]
  },
  {
   "cell_type": "markdown",
   "metadata": {},
   "source": [
    "### Conclusions  \n",
    "\n",
    "- From the analysis done:  \n",
    "Data seemed to suggest that females and males were almost equally susceptible (50%) to transaction fraud.  \n",
    "Most fraudulent activities occurred from 10pm,and this is when most people are asleep.  \n",
    "All Fraud Transactions occurred for an amount below 2500. Thus, the bank should note that fraud committers try to commit frauds of smaller amounts to avoid suspicion.  \n",
    "The number of fraud transactions were very few compared to normal transactions and this had to be balanced in order  to prevent the model from overfitting.\n",
    "- After performing several models, in the balanced dataset with SMOTE technique the best two models which  were found to be Random Forest and Decision Tree.\n",
    "- The best two models were  tuned  and Decision Tree classifier  outperformed Random Forest to give a test accuracy of nearly 99.8% and a recall of 90%.This same model was chosen as the model for deployment as it had an ROC of  98% and a recall of 90%."
   ]
  },
  {
   "cell_type": "markdown",
   "metadata": {},
   "source": [
    "### Recommendations \n",
    "- The implementation of measures to prevent fraudulent transactions, such as two-factor authentication, alerts for unusual account activity, and transaction limits for certain types of purchases, is recommended.\n",
    "- Real-time monitoring is recommended to be implemented to identify and prevent fraudulent transactions as they occur, particularly during the late hours of the night.\n",
    "- The prioritization of fraud detection in high-risk states such as NY, TX, and PA is recommended.\n",
    "- Finally, further investigation may be necessary to identify the relationship between age and the occurrence of fraudulent transactions.\n",
    "- For every transaction that is flagged as fraudulent, a human element can be added to verify whether the transaction was done by calling the customer."
   ]
  },
  {
   "cell_type": "markdown",
   "metadata": {
    "id": "xrmHVMVsVS--"
   },
   "source": [
    "## 9. Follow up questions"
   ]
  },
  {
   "cell_type": "markdown",
   "metadata": {
    "id": "pth2qSWhuBIy"
   },
   "source": [
    "> At this point, we can refine our question or collect new data, all in an iterative process to get at the truth.\n",
    "- If you have any comments, suggestions or feedback about this project, please feel free to share them. We are open to criticism and welcome any suggestions that can help us improve our skills on future projects.\n"
   ]
  },
  {
   "cell_type": "markdown",
   "metadata": {
    "id": "HPQviDmNtta8"
   },
   "source": [
    "### a). Did we have the right data?\n",
    "- Yes we had the right Data"
   ]
  },
  {
   "cell_type": "markdown",
   "metadata": {
    "id": "qjFHK1CKty7o"
   },
   "source": [
    "### b). Do we need other data to answer our question? \n"
   ]
  },
  {
   "cell_type": "markdown",
   "metadata": {
    "id": "HSsicSdvt4Zs"
   },
   "source": [
    "### c). Did we have the right question?"
   ]
  }
 ],
 "metadata": {
  "colab": {
   "collapsed_sections": [
    "kLG2VTrnTvYL",
    "J4wfHZwQrs-t",
    "a9BPYqunry97",
    "7KMRBJ7zr9HD",
    "zSGyg6kWsBUl",
    "iUNbvIvnT7ep",
    "OI3P3YnHUEBk",
    "ckfufNrcUHeH",
    "6XC_g-zKxe-r",
    "FlBMxEDBUc9B",
    "rF2ABPsHUtbZ",
    "vTbdjSrhVIiT",
    "lQ2G4ZPDVOXE",
    "xrmHVMVsVS--",
    "HPQviDmNtta8",
    "qjFHK1CKty7o",
    "HSsicSdvt4Zs"
   ],
   "provenance": [],
   "toc_visible": true
  },
  "kernelspec": {
   "display_name": "Python 3 (ipykernel)",
   "language": "python",
   "name": "python3"
  },
  "language_info": {
   "codemirror_mode": {
    "name": "ipython",
    "version": 3
   },
   "file_extension": ".py",
   "mimetype": "text/x-python",
   "name": "python",
   "nbconvert_exporter": "python",
   "pygments_lexer": "ipython3",
   "version": "3.9.12"
  }
 },
 "nbformat": 4,
 "nbformat_minor": 1
}
